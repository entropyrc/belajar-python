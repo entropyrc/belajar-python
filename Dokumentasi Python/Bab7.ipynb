{
 "cells": [
  {
   "cell_type": "markdown",
   "id": "679f238e-27be-436e-8bf4-e7ee9d44ac37",
   "metadata": {},
   "source": [
    "## Bab 7: Percabangan (if, elif, else)\n",
    "\n",
    "Percabangan (kondisional) memungkinkan kita untuk membuat program yang bisa mengambil keputusan berdasarkan kondisi tertentu.  \n",
    "Di Python, percabangan menggunakan kata kunci:\n",
    "- if\n",
    "- elif (else if)\n",
    "- else\n",
    "  \n",
    "Percabangan digunakan untuk mengevaluasi kondisi tertentu dan menjalankan kode yang berbeda tergantung kondisinya.  \n",
    "Struktur umumnya seperti ini:\n",
    "```python\n",
    "if kondisi:\n",
    "    # baris kode jika kondisi True\n",
    "elif kondisi_lain:\n",
    "    # baris kode jika kondisi_lain True\n",
    "else:\n",
    "    # baris kode jika semua kondisi False\n",
    "```\n",
    "Kode di atas bisa diartikan seperti ini:  \n",
    "Jika (if) kondisinya True:\n",
    "    Maka jalankan perintah di baris ini\n",
    "Jika (elif) kondisi lain True:\n",
    "    Maka jalankan perintah di baris ini\n",
    "Jika tidak True (menjadi False) (else):\n",
    "    Maka jalankan perintah ini\n",
    "\n"
   ]
  },
  {
   "cell_type": "markdown",
   "id": "237b8d07-7c0d-40ed-93a3-4d0c0b3fd5d7",
   "metadata": {},
   "source": [
    "### 🔷 if else"
   ]
  },
  {
   "cell_type": "code",
   "execution_count": 5,
   "id": "96bb16d3-2a89-466b-8f98-5133108629a9",
   "metadata": {},
   "outputs": [
    {
     "name": "stdin",
     "output_type": "stream",
     "text": [
      "Masukkan umur kamu:  12\n"
     ]
    },
    {
     "name": "stdout",
     "output_type": "stream",
     "text": [
      "Kamu masih anak-anak.\n"
     ]
    }
   ],
   "source": [
    "umur = int(input(\"Masukkan umur kamu: \"))\n",
    "\n",
    "if umur >= 18:\n",
    "    print(\"Kamu sudah dewasa.\")\n",
    "else:\n",
    "    print(\"Kamu masih anak-anak.\")\n",
    "    \n",
    "# Kode di atas menjelaskan seperti ini:\n",
    "# \n",
    "# jika variabel umur lebih besar sama dengan dari 18:\n",
    "#    maka print output kalimat \"Kamu sudah besar\"\n",
    "# jika tidak:\n",
    "#    maka print output kalimat \"Kamu masih anak-anak\n",
    "#\n",
    "# perintah else juga bisa berarti \"Jika variabel umur tidak lebih besar dari 18\" ataupun \"jika tidak ada input yang memenuhi kriteria/kondisi\""
   ]
  },
  {
   "cell_type": "markdown",
   "id": "0f8888dc-06c0-4286-b020-d8f549e7f3f3",
   "metadata": {},
   "source": [
    "### 🔷 if elif else\n",
    "\n",
    "Jika kita ingin menambahkan beberapa kondisi berbeda, kita tinggal menambahkan fungsi `elif` di antara if dan else."
   ]
  },
  {
   "cell_type": "code",
   "execution_count": 9,
   "id": "81c87e94-54d5-4e85-98c7-03aa97f932de",
   "metadata": {},
   "outputs": [
    {
     "name": "stdin",
     "output_type": "stream",
     "text": [
      "Masukkan nilai ujian kamu:  90\n"
     ]
    },
    {
     "name": "stdout",
     "output_type": "stream",
     "text": [
      "Grade A\n"
     ]
    }
   ],
   "source": [
    "nilai = int(input(\"Masukkan nilai ujian kamu: \"))\n",
    "\n",
    "if nilai >= 90:\n",
    "    print(\"Grade A\")\n",
    "elif nilai >= 80:\n",
    "    print(\"Grade B\")\n",
    "elif nilai >= 70:\n",
    "    print(\"Grade C\")\n",
    "elif nilai >= 60:\n",
    "    print(\"Grade D\")\n",
    "else:\n",
    "    print(\"Grade E (Tidak lulus)\")\n",
    "\n",
    "# Kode yang tertulis di atas bisa dijelaskan seperti ini:\n",
    "# \n",
    "# jika variabel nilai lebih besar sama dengan dari 90:\n",
    "#   maka outputnya Grade A\n",
    "# lain jika variabel nilai lebih besar sama dengan dari 80:\n",
    "#    maka outputnya Grade B\n",
    "# lain jika variabel nilai lebih besar sama dengan dari 70:\n",
    "#    maka outputnya Grade C\n",
    "# lain jika variabel nilai lebih besar sama dengan dari 60:\n",
    "#    maka outputnya Grade D\n",
    "# jika tidak:\n",
    "#    maka outputnya Grade E (tidak lulus)"
   ]
  },
  {
   "cell_type": "markdown",
   "id": "15b8aae6-35ea-457f-8aaa-2e9762bb560f",
   "metadata": {},
   "source": [
    "### 🔷 Percabangan bersarang (Nested if)\n",
    "Kita juga bisa menulis `if` lain di dalam fungsi `if`"
   ]
  },
  {
   "cell_type": "code",
   "execution_count": 14,
   "id": "978f89ca-25f5-4046-a87b-c65b470b6fef",
   "metadata": {},
   "outputs": [
    {
     "name": "stdin",
     "output_type": "stream",
     "text": [
      "Masukkan umur kamu:  90\n"
     ]
    },
    {
     "name": "stdout",
     "output_type": "stream",
     "text": [
      "Kamu sudah dewasa.\n",
      "Kamu sudah lansia.\n"
     ]
    }
   ],
   "source": [
    "umur = int(input(\"Masukkan umur kamu: \"))\n",
    "\n",
    "if umur >= 18:\n",
    "    print(\"Kamu sudah dewasa.\")\n",
    "    if umur >= 65:\n",
    "        print(\"Kamu sudah lansia.\")\n",
    "else:\n",
    "    print(\"Kamu masih anak-anak.\")"
   ]
  },
  {
   "cell_type": "markdown",
   "id": "f65c4c15-23da-4a79-bceb-b13bfcbd8158",
   "metadata": {},
   "source": [
    "### ✍️ Contoh\n",
    "\n",
    "1. Minta user memasukkan suhu dalam Celsius.  \n",
    "   Jika suhu > 30, cetak \"Cuaca panas\".  \n",
    "   Jika suhu antara 20 - 30, cetak \"Cuaca sejuk\".  \n",
    "   Jika suhu < 20, cetak \"Cuaca dingin\".  \n",
    "\n",
    "2. Minta user memasukkan angka.  \n",
    "   Tampilkan apakah angka tersebut positif, negatif, atau nol."
   ]
  },
  {
   "cell_type": "code",
   "execution_count": 4,
   "id": "7b0c8862-0e96-433b-ba9b-7e47c9a8b369",
   "metadata": {},
   "outputs": [
    {
     "name": "stdin",
     "output_type": "stream",
     "text": [
      "Masukkan suhu dalm celcius:  10\n"
     ]
    },
    {
     "name": "stdout",
     "output_type": "stream",
     "text": [
      "Cuaca dingin\n"
     ]
    },
    {
     "name": "stdin",
     "output_type": "stream",
     "text": [
      "Masukkan sebuah angka : 20\n"
     ]
    },
    {
     "name": "stdout",
     "output_type": "stream",
     "text": [
      "Angka positif\n"
     ]
    }
   ],
   "source": [
    "# Contoh 1\n",
    "\n",
    "suhu = float(input(\"Masukkan suhu dalm celcius: \"))\n",
    "\n",
    "if suhu > 30:\n",
    "    print(\"Cuaca panas\")\n",
    "elif suhu >= 20:\n",
    "    print(\"Cuaca sejuk\")\n",
    "else:\n",
    "    print(\"Cuaca dingin\")\n",
    "\n",
    "# Contoh 2\n",
    "\n",
    "angka = int(input(\"Masukkan sebuah angka :\"))\n",
    "\n",
    "if angka > 0:\n",
    "    print(\"Angka positif\")\n",
    "elif angka < 0:\n",
    "    print(\"Angka negatif\")\n",
    "else:\n",
    "    print(\"Nol\")"
   ]
  },
  {
   "cell_type": "markdown",
   "id": "9fe28d9d-9822-48e0-821a-0b4d8c7059ee",
   "metadata": {},
   "source": [
    "### 📝 Ringkasan Bab 7\n",
    "\n",
    "- Gunakan `if` untuk memeriksa kondisi.\n",
    "- Gunakan `elif` untuk kondisi tambahan jika `if` tidak terpenuhi.\n",
    "- Gunakan `else` untuk kondisi terakhir jika semua kondisi sebelumnya tidak terpenuhi.\n",
    "- Jangan lupa indentasi (spasi ke dalam) pada blok kode dalam Python, karena Python tidak pakai tanda kurung `{}`."
   ]
  },
  {
   "cell_type": "markdown",
   "id": "c7d87cea-0589-4f04-8f6a-a790dda07677",
   "metadata": {},
   "source": [
    "## Bab 8: Perulangan (Looping)\n",
    "\n",
    "Perulangan (Loop) digunakan untuk menjalankan baris kode berulang kali selama kondisi yang dibuat terpenuhi.  \n",
    "Ini sangat penting karena kita tidak perlu menulis kode yang sama berulang-ulang secara manual.\n",
    "\n",
    "Python memiliki dua jenis perulangan utama:\n",
    "- `while` -> mengulang selama kondisi bernilai True\n",
    "- `for`   -> mengulang untuk setiap item dalam urutan (list, string, range)\n",
    "  \n",
    "Juga ada perintah `break` dan `continue` untuk mengatur alur loop."
   ]
  },
  {
   "cell_type": "markdown",
   "id": "59010230-22ac-4466-ae68-50509ff77828",
   "metadata": {},
   "source": [
    "### 🔄 Perulangan dengan while (while loop)\n",
    "\n",
    "Struktur dasar:\n",
    "```python\n",
    "while kondisi:\n",
    "    # baris kode\n",
    "```"
   ]
  },
  {
   "cell_type": "markdown",
   "id": "df6951ec-d2bb-498c-97a1-6598008fd0db",
   "metadata": {},
   "source": [
    "Loop akan terus berjalan selama `kondisi` bernilai `True`"
   ]
  },
  {
   "cell_type": "code",
   "execution_count": 8,
   "id": "7ea0b269-31f7-4361-ae12-06ceaa3f6028",
   "metadata": {},
   "outputs": [
    {
     "name": "stdout",
     "output_type": "stream",
     "text": [
      "Perulangan ke 1\n",
      "Perulangan ke 2\n",
      "Perulangan ke 3\n",
      "Perulangan ke 4\n",
      "Perulangan ke 5\n"
     ]
    }
   ],
   "source": [
    "i = 1\n",
    "\n",
    "while i <= 5:\n",
    "    print(\"Perulangan ke\", i)\n",
    "    i += 1"
   ]
  },
  {
   "cell_type": "markdown",
   "id": "4a858535-7120-4eef-99ca-f9326a2e2813",
   "metadata": {},
   "source": [
    "### 🔄 Perulangan dengan for (for loop)\n",
    "\n",
    "`for` digunakan untuk mengiterasi setiap item dalam urutan seperti `list`, `string`, atau `range`.\n",
    "\n",
    "Struktur:\n",
    "```python\n",
    "for variabel in urutan\n",
    "    # baris kode\n",
    "```"
   ]
  },
  {
   "cell_type": "code",
   "execution_count": 10,
   "id": "8e90ed60-6989-40dd-a817-13769779fced",
   "metadata": {},
   "outputs": [
    {
     "name": "stdout",
     "output_type": "stream",
     "text": [
      "Perulangan ke 1\n",
      "Perulangan ke 2\n",
      "Perulangan ke 3\n",
      "Perulangan ke 4\n",
      "Perulangan ke 5\n"
     ]
    }
   ],
   "source": [
    "for i in range(1, 6):\n",
    "    print(\"Perulangan ke\", i)"
   ]
  },
  {
   "cell_type": "markdown",
   "id": "8ca0e4b0-c1a1-45bb-8084-bfaecceb384f",
   "metadata": {},
   "source": [
    "Kita juga bisa melakukan perulangan menggunakan string"
   ]
  },
  {
   "cell_type": "code",
   "execution_count": 1,
   "id": "2e83ef12-1730-4776-bd37-5092c967e2dd",
   "metadata": {},
   "outputs": [
    {
     "name": "stdout",
     "output_type": "stream",
     "text": [
      "P\n",
      "y\n",
      "t\n",
      "h\n",
      "o\n",
      "n\n"
     ]
    }
   ],
   "source": [
    "for huruf in \"Python\":\n",
    "    print(huruf)\n",
    "\n",
    "# Hasilnya, python akan menjabarkan list dari kata string yaitu \"Python\""
   ]
  },
  {
   "cell_type": "markdown",
   "id": "a4d3f85b-4526-4f98-b26d-299203287089",
   "metadata": {},
   "source": [
    "### 🛑 break"
   ]
  },
  {
   "cell_type": "markdown",
   "id": "60f21e68-7187-4fb8-a9df-56277fea519d",
   "metadata": {},
   "source": [
    "`break` digunakan untuk menghentikan loop secara paksa."
   ]
  },
  {
   "cell_type": "code",
   "execution_count": 2,
   "id": "9bb69be5-2fe7-4d81-b99f-03e6f1bf24e6",
   "metadata": {},
   "outputs": [
    {
     "name": "stdout",
     "output_type": "stream",
     "text": [
      "1\n",
      "2\n",
      "3\n",
      "4\n"
     ]
    }
   ],
   "source": [
    "for i in range(1, 10):\n",
    "    if i == 5:\n",
    "        break\n",
    "    print(i)\n",
    "\n",
    "# karena pada fungsi `for loop` di atas terdapat fungsi `break` juga, jadi kode hanya memunculkan angka sebanyak 4 karena fungsi `if` adalah\n",
    "# memastikan kode berhenti tepat pada saat angka 5 (angka 5 tidak terprint)"
   ]
  },
  {
   "cell_type": "markdown",
   "id": "f08141b8-a9e0-4c72-b326-c14bf02594a7",
   "metadata": {},
   "source": [
    "### ⏭️ continue\n",
    "\n",
    "`continue` digunakan untuk **melewati iterasi saat ini** dan lanjut ke iterasi berikutnya."
   ]
  },
  {
   "cell_type": "code",
   "execution_count": 1,
   "id": "5ea5ea13-9c7f-445c-b7c5-08f6cb0b9215",
   "metadata": {},
   "outputs": [
    {
     "name": "stdout",
     "output_type": "stream",
     "text": [
      "1\n",
      "2\n",
      "4\n",
      "5\n"
     ]
    }
   ],
   "source": [
    "for i in range(1, 6):\n",
    "    if i == 3:\n",
    "        continue\n",
    "    print(i)\n",
    "\n",
    "# pada kode diatas, jika perhitungan sudah mencapai 3, maka perhitungan dilanjutkan ke urutan berikutnya\n",
    "# jadi angka 3 akan dilewat dan dilanjut ke urutan berikutnya yaitu 4 dan seterusnya"
   ]
  },
  {
   "cell_type": "markdown",
   "id": "1a0ed7de-1120-49ff-a445-da09142bf3dd",
   "metadata": {},
   "source": [
    "### ✍️ Contoh\n",
    "\n",
    "1. Cetak angka dari 1 sampai 20, tapi lewati angka yang kelipatan 4.\n",
    "2. Buat program yang meminta user memasukkan angka positif. \n",
    "   Jika user memasukkan angka negatif, ulangi terus sampai dia memasukkan angka positif."
   ]
  },
  {
   "cell_type": "code",
   "execution_count": 8,
   "id": "5b65d443-181b-454d-be1e-cc7780647dd2",
   "metadata": {},
   "outputs": [
    {
     "name": "stdout",
     "output_type": "stream",
     "text": [
      "1\n",
      "2\n",
      "3\n",
      "5\n",
      "6\n",
      "7\n",
      "9\n",
      "10\n",
      "11\n",
      "13\n",
      "14\n",
      "15\n",
      "17\n",
      "18\n",
      "19\n"
     ]
    },
    {
     "name": "stdin",
     "output_type": "stream",
     "text": [
      "Masukkan angka positif:  1\n"
     ]
    },
    {
     "name": "stdout",
     "output_type": "stream",
     "text": [
      "Terima kasih, anda memasukkan: 1\n"
     ]
    }
   ],
   "source": [
    "# contoh 1\n",
    "\n",
    "for i in range (1, 21):\n",
    "    if i % 4 == 0:\n",
    "        continue\n",
    "    print(i)\n",
    "\n",
    "# contoh 2\n",
    "\n",
    "angka = -1\n",
    "while angka < 0:\n",
    "    angka = int(input(\"Masukkan angka positif: \"))\n",
    "print(\"Terima kasih, anda memasukkan:\", angka)"
   ]
  },
  {
   "cell_type": "markdown",
   "id": "837012be-4c48-47e1-a63c-9b4cf433a6c3",
   "metadata": {},
   "source": [
    "### 📝 Ringkasan Bab 8\n",
    "\n",
    "- Gunakan `while` untuk perulangan selama kondisi terpenuhi.\n",
    "- Gunakan `for` untuk mengiterasi item dalam urutan (`range`, `list`, `string`).\n",
    "- Gunakan `break` untuk menghentikan loop.\n",
    "- Gunakan `continue` untuk melewati iterasi saat ini."
   ]
  },
  {
   "cell_type": "code",
   "execution_count": null,
   "id": "727c2c49-6bf4-4fce-8813-35ba84fd304f",
   "metadata": {},
   "outputs": [],
   "source": []
  }
 ],
 "metadata": {
  "kernelspec": {
   "display_name": "Python 3 (ipykernel)",
   "language": "python",
   "name": "python3"
  },
  "language_info": {
   "codemirror_mode": {
    "name": "ipython",
    "version": 3
   },
   "file_extension": ".py",
   "mimetype": "text/x-python",
   "name": "python",
   "nbconvert_exporter": "python",
   "pygments_lexer": "ipython3",
   "version": "3.13.2"
  }
 },
 "nbformat": 4,
 "nbformat_minor": 5
}
