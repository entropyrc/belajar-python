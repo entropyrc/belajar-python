{
 "cells": [
  {
   "cell_type": "markdown",
   "id": "80c0559e-c506-40d8-9c10-14d6220a223a",
   "metadata": {},
   "source": [
    "## Bab 1: Perintah print()\n",
    "\n",
    "Dalam bahasa pemrograman Python, kita menggunakan **fungsi 'print()'** untuk menampilkan teks atau informasi ke layar.\n",
    "Biasanya ini adalah program pertama yang ditulis oleh siapa pun saat belajar bahasa pemrograman.\n",
    "Misalnya, jika ingin menampilkan tulisan `\"Hello, World!\"` ke layar. Kita bisa menulisnya seperti ini:"
   ]
  },
  {
   "cell_type": "code",
   "execution_count": 22,
   "id": "8e9d5a30-61ac-435a-8e44-1a2b5fd55a10",
   "metadata": {},
   "outputs": [
    {
     "name": "stdout",
     "output_type": "stream",
     "text": [
      "Hello, World!\n"
     ]
    }
   ],
   "source": [
    "print(\"Hello, World!\")"
   ]
  },
  {
   "cell_type": "markdown",
   "id": "2f239df7-9041-449c-8b79-ceaf75df6e46",
   "metadata": {},
   "source": [
    "Penjelasan:\n",
    "- `print()` adalah fungsi bawaan di Python.\n",
    "- Teks yang ingin ditampilkan harus ditulis di antara tanda kutip, misalnya `\"Hello, World!\"`.\n",
    "- Jangan lupa tanda kurung `()` — ini menandakan kita **memanggil fungsi**.\n",
    "\n",
    "---\n",
    "\n",
    "### 📌 Coba Sendiri\n",
    "\n",
    "Cobalah menulis perintah `print()` untuk menampilkan nama kamu sendiri.\n",
    "\n",
    "Contoh:"
   ]
  },
  {
   "cell_type": "code",
   "execution_count": 23,
   "id": "1712378d-084d-46d0-9224-f53b6e502e95",
   "metadata": {},
   "outputs": [
    {
     "name": "stdout",
     "output_type": "stream",
     "text": [
      "Nama saya Anto\n"
     ]
    }
   ],
   "source": [
    "print(\"Nama saya Anto\")"
   ]
  },
  {
   "cell_type": "markdown",
   "id": "98c24b61-a6c1-4fc6-bee9-74dfa005affc",
   "metadata": {},
   "source": [
    "### ✍️ Contoh\n",
    "\n",
    "1. Tampilkan kalimat \"Saya sedang belajar Python\".\n",
    "2. Tampilkan kalimat dengan nama dan hobi kita sendiri, misalnya:\n",
    "   - \"Nama saya Budi, dan saya suka membaca buku.\"\n",
    "\n",
    "Kamu bisa menulis lebih dari satu `print()` secara berurutan, seperti ini:"
   ]
  },
  {
   "cell_type": "code",
   "execution_count": 28,
   "id": "8af76661-79f2-4800-afb7-2f70bbd86fdb",
   "metadata": {},
   "outputs": [
    {
     "name": "stdout",
     "output_type": "stream",
     "text": [
      "Saya sedang belajar Python\n",
      "Nama saya Anto, dan saya suka bermain bola\n"
     ]
    }
   ],
   "source": [
    "print(\"Saya sedang belajar Python\")\n",
    "print(\"Nama saya Anto, dan saya suka bermain bola\")"
   ]
  },
  {
   "cell_type": "markdown",
   "id": "93fea545-1608-4898-9d3e-a7452ff40b63",
   "metadata": {},
   "source": [
    "💡 **Tips:** Kita bisa menggunakan `print()` untuk menampilkan apa pun seperti teks, angka, hasil perhitungan, dan bahkan isi dari variabel.\n",
    "\n",
    "Contoh:"
   ]
  },
  {
   "cell_type": "code",
   "execution_count": 8,
   "id": "758f5527-240d-4d03-8432-f8179c40aaa1",
   "metadata": {},
   "outputs": [
    {
     "name": "stdout",
     "output_type": "stream",
     "text": [
      "8\n"
     ]
    }
   ],
   "source": [
    "print(3 + 5) # hasilnya akan menampilkan angka 8"
   ]
  },
  {
   "cell_type": "markdown",
   "id": "6d595ed9-7a27-4eda-a2f8-2257d9880905",
   "metadata": {},
   "source": [
    "### 📝 Ringkasan Bab 1\n",
    "\n",
    "- Fungsi `print()` digunakan untuk menampilkan teks atau informasi ke layar.\n",
    "- Teks ditulis dalam tanda kutip, misalnya: `\"Hello, world!\"`\n",
    "- Fungsi harus ditulis dengan tanda kurung, contohnya: `print(\"teks\")`\n"
   ]
  },
  {
   "cell_type": "code",
   "execution_count": null,
   "id": "b7d0a2e4-8ea0-41b8-8747-544780db29c9",
   "metadata": {},
   "outputs": [],
   "source": []
  }
 ],
 "metadata": {
  "kernelspec": {
   "display_name": "Python 3 (ipykernel)",
   "language": "python",
   "name": "python3"
  },
  "language_info": {
   "codemirror_mode": {
    "name": "ipython",
    "version": 3
   },
   "file_extension": ".py",
   "mimetype": "text/x-python",
   "name": "python",
   "nbconvert_exporter": "python",
   "pygments_lexer": "ipython3",
   "version": "3.13.2"
  }
 },
 "nbformat": 4,
 "nbformat_minor": 5
}
