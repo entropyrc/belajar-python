{
 "cells": [
  {
   "cell_type": "markdown",
   "id": "0d9357f0-c2ef-4793-a932-8a22ec342448",
   "metadata": {},
   "source": [
    "## Bab 5: Operator (Operasi Aritmatika)\n",
    "\n",
    "Operator adalah simbol atau karakter yang digunakan untuk melakukan **perhitungan** atau **operasi logika** pada variabel dan nilai.\n",
    "\n",
    "Pada bab ini kita akan fokus dulu pada **operator aritmatika**, yaitu operator yang digunakan untuk menghitung angka seperti penjumlahan, pengurangan, perkalian, pembagian, dll.\n"
   ]
  },
  {
   "cell_type": "markdown",
   "id": "810426d5-9e9c-490e-9e1d-c1863fc8ef5f",
   "metadata": {},
   "source": [
    "### 📐 Operator Aritmatika Dasar\n",
    "\n",
    "| Operator | Simbol | Contoh       | Keterangan                |\n",
    "|----------|--------|--------------|----------------------------|\n",
    "| Penjumlahan | `+`    | `a + b`      | Menjumlahkan dua nilai     |\n",
    "| Pengurangan| `-`    | `a - b`      | Mengurangi dua nilai       |\n",
    "| Perkalian  | `*`    | `a * b`      | Mengalikan dua nilai       |\n",
    "| Pembagian  | `/`    | `a / b`      | Membagi dua nilai (hasil float) |\n",
    "| Pembagian Bulat | `//` | `a // b` | Membagi dan membulatkan ke bawah |\n",
    "| Sisa Bagi (modulus) | `%` | `a % b` | Sisa dari pembagian         |\n",
    "| Pangkat     | `**`   | `a ** b`    | Perpangkatan                |\n"
   ]
  },
  {
   "cell_type": "code",
   "execution_count": 6,
   "id": "2ee23268-8942-421a-9d63-2d6e7a5ad139",
   "metadata": {},
   "outputs": [
    {
     "name": "stdout",
     "output_type": "stream",
     "text": [
      "Penjumlahan: 13\n",
      "Pengurangan: 7\n",
      "Perkalian: 30\n",
      "Pembagian: 3.3333333333333335\n",
      "Pembagian bulat: 3\n",
      "Sisa bagi: 1\n",
      "Pangkat: 1000\n"
     ]
    }
   ],
   "source": [
    "a = 10\n",
    "b = 3\n",
    "\n",
    "print(\"Penjumlahan:\", a + b)\n",
    "print(\"Pengurangan:\", a - b)\n",
    "print(\"Perkalian:\", a * b)\n",
    "print(\"Pembagian:\", a / b)\n",
    "print(\"Pembagian bulat:\", a // b)\n",
    "print(\"Sisa bagi:\", a % b)\n",
    "print(\"Pangkat:\", a ** b)"
   ]
  },
  {
   "cell_type": "markdown",
   "id": "52ac3498-2bf3-4b6c-97e2-3083525074dd",
   "metadata": {},
   "source": [
    "### ⚠️ Catatan:\n",
    "- Hasil dari `/` (pembagian biasa) **selalu** berupa `float`, meskipun hasilnya genap.\n",
    "- Untuk mendapatkan hasil **bilangan bulat**, gunakan `//`.\n",
    "\n",
    "Contoh:\n"
   ]
  },
  {
   "cell_type": "code",
   "execution_count": 7,
   "id": "cdfd3f58-190b-4a13-b8b7-adb70151f37c",
   "metadata": {},
   "outputs": [
    {
     "name": "stdout",
     "output_type": "stream",
     "text": [
      "5.0\n",
      "5\n"
     ]
    }
   ],
   "source": [
    "print(10 / 2)   # Hasil: 5.0 (float)\n",
    "print(10 // 2)  # Hasil: 5 (int)"
   ]
  },
  {
   "cell_type": "markdown",
   "id": "a08984c9-75b2-417b-9401-78fd73fd47a8",
   "metadata": {},
   "source": [
    "### 🧪 Menggunakan Operator pada Variabel\n",
    "\n",
    "Kamu juga bisa menggunakan operator aritmatika langsung pada variabel:\n",
    "\n",
    "Contoh:\n"
   ]
  },
  {
   "cell_type": "code",
   "execution_count": 6,
   "id": "89abd3cb-5b39-4e32-b1bd-1fe7823a2c11",
   "metadata": {},
   "outputs": [
    {
     "name": "stdout",
     "output_type": "stream",
     "text": [
      "Total belanja: 60000\n",
      "Total belanja: 60000\n"
     ]
    }
   ],
   "source": [
    "harga_barang = 15000\n",
    "jumlah_barang = 4\n",
    "total = harga_barang * jumlah_barang\n",
    "\n",
    "print(\"Total belanja:\", total)\n",
    "\n",
    "# atau seperti ini\n",
    "harga_barang = 15000\n",
    "jumlah_barang = 4\n",
    "print(\"Total belanja:\", harga_barang * jumlah_barang)"
   ]
  },
  {
   "cell_type": "markdown",
   "id": "c8205d1f-19e1-4608-bb67-076868892dd3",
   "metadata": {},
   "source": [
    "### 🧮 Urutan Operasi (Operator Precedence)\n",
    "\n",
    "Python mengikuti aturan matematika dalam urutan penghitungan, yaitu:\n",
    "\n",
    "1. `()` tanda kurung\n",
    "2. `**` pangkat\n",
    "3. `*`, `/`, `//`, `%` (perkalian dan pembagian)\n",
    "4. `+`, `-` (penjumlahan dan pengurangan)\n",
    "\n",
    "Contoh:\n"
   ]
  },
  {
   "cell_type": "code",
   "execution_count": 7,
   "id": "0f37d4a7-e184-4810-8ee9-7fcb20e0d01c",
   "metadata": {},
   "outputs": [
    {
     "name": "stdout",
     "output_type": "stream",
     "text": [
      "Tanpa kurung: 11\n",
      "Dengan kurung: 21\n"
     ]
    }
   ],
   "source": [
    "hasil = 5 + 2 * 3\n",
    "print(\"Tanpa kurung:\", hasil)\n",
    "\n",
    "hasil2 = (5 + 2) * 3\n",
    "print(\"Dengan kurung:\", hasil2)"
   ]
  },
  {
   "cell_type": "markdown",
   "id": "4119bcdd-52a7-4ef9-8b38-1bde625fa94e",
   "metadata": {},
   "source": [
    "### ✍️ Contoh\n",
    "\n",
    "1. Buat dua variabel: `panjang` dan `lebar`, lalu hitung dan tampilkan **luas persegi panjang**.\n",
    "2. Buat program untuk menghitung **sisa uang** setelah membeli 3 barang seharga 20.000 dengan uang 100.000.\n",
    "3. Hitung hasil dari:\n",
    "   - `5 + 4 * 2`\n",
    "   - `(5 + 4) * 2`\n"
   ]
  },
  {
   "cell_type": "code",
   "execution_count": 8,
   "id": "5facd8eb-61de-49bc-81bf-5753ef233514",
   "metadata": {},
   "outputs": [
    {
     "name": "stdout",
     "output_type": "stream",
     "text": [
      "Luas persegi panjang: 50\n",
      "Sisa uang: 40000\n",
      "13\n",
      "18\n"
     ]
    }
   ],
   "source": [
    "# Contoh 1\n",
    "panjang = 10\n",
    "lebar = 5\n",
    "luas = panjang * lebar\n",
    "print(\"Luas persegi panjang:\", luas)\n",
    "\n",
    "# Contoh 2\n",
    "uang = 100000\n",
    "harga = 20000\n",
    "total_pengeluaran = harga * 3\n",
    "sisa_uang = uang - total_pengeluaran\n",
    "print(\"Sisa uang:\", sisa_uang)\n",
    "\n",
    "# Contoh 3\n",
    "print(5 + 4 * 2)\n",
    "print((5 + 4) * 2)\n"
   ]
  },
  {
   "cell_type": "markdown",
   "id": "333255ac-8de2-437a-a3ff-5164e3a532b3",
   "metadata": {},
   "source": [
    "### 📝 Ringkasan Bab 5\n",
    "\n",
    "- Operator aritmatika digunakan untuk menghitung angka.\n",
    "- Gunakan:\n",
    "  - `+` untuk tambah\n",
    "  - `-` untuk kurang\n",
    "  - `*` untuk kali\n",
    "  - `/` untuk bagi (hasilnya akan bertipe data float)\n",
    "  - `//` untuk pembagian bulat\n",
    "  - `%` untuk sisa bagi\n",
    "  - `**` untuk pangkat\n",
    "- Gunakan tanda kurung `()` untuk mengatur urutan operasi\n"
   ]
  },
  {
   "cell_type": "code",
   "execution_count": null,
   "id": "d28e8f91-970d-4b79-8900-c4ac08c83c71",
   "metadata": {},
   "outputs": [],
   "source": []
  }
 ],
 "metadata": {
  "kernelspec": {
   "display_name": "Python 3 (ipykernel)",
   "language": "python",
   "name": "python3"
  },
  "language_info": {
   "codemirror_mode": {
    "name": "ipython",
    "version": 3
   },
   "file_extension": ".py",
   "mimetype": "text/x-python",
   "name": "python",
   "nbconvert_exporter": "python",
   "pygments_lexer": "ipython3",
   "version": "3.13.2"
  }
 },
 "nbformat": 4,
 "nbformat_minor": 5
}
