{
 "cells": [
  {
   "cell_type": "markdown",
   "id": "80c0559e-c506-40d8-9c10-14d6220a223a",
   "metadata": {},
   "source": [
    "## Bab 1: Perintah print()\n",
    "\n",
    "Dalam bahasa pemrograman Python, kita menggunakan **fungsi 'print()'** untuk menampilkan teks atau informasi ke layar.\n",
    "Biasanya ini adalah program pertama yang ditulis oleh siapa pun saat belajar bahasa pemrograman.\n",
    "Misalnya, jika ingin menampilkan tulisan `\"Hello, World!\"` ke layar. Kita bisa menulisnya seperti ini:"
   ]
  },
  {
   "cell_type": "code",
   "execution_count": 22,
   "id": "8e9d5a30-61ac-435a-8e44-1a2b5fd55a10",
   "metadata": {},
   "outputs": [
    {
     "name": "stdout",
     "output_type": "stream",
     "text": [
      "Hello, World!\n"
     ]
    }
   ],
   "source": [
    "print(\"Hello, World!\")"
   ]
  },
  {
   "cell_type": "markdown",
   "id": "2f239df7-9041-449c-8b79-ceaf75df6e46",
   "metadata": {},
   "source": [
    "Penjelasan:\n",
    "- `print()` adalah fungsi bawaan di Python.\n",
    "- Teks yang ingin ditampilkan harus ditulis di antara tanda kutip, misalnya `\"Hello, World!\"`.\n",
    "- Jangan lupa tanda kurung `()` — ini menandakan kita **memanggil fungsi**.\n",
    "\n",
    "---\n",
    "\n",
    "### 📌 Coba Sendiri\n",
    "\n",
    "Cobalah menulis perintah `print()` untuk menampilkan nama kamu sendiri.\n",
    "\n",
    "Contoh:"
   ]
  },
  {
   "cell_type": "code",
   "execution_count": 23,
   "id": "1712378d-084d-46d0-9224-f53b6e502e95",
   "metadata": {},
   "outputs": [
    {
     "name": "stdout",
     "output_type": "stream",
     "text": [
      "Nama saya Anto\n"
     ]
    }
   ],
   "source": [
    "print(\"Nama saya Anto\")"
   ]
  },
  {
   "cell_type": "markdown",
   "id": "98c24b61-a6c1-4fc6-bee9-74dfa005affc",
   "metadata": {},
   "source": [
    "### ✍️ Contoh\n",
    "\n",
    "1. Tampilkan kalimat \"Saya sedang belajar Python\".\n",
    "2. Tampilkan kalimat dengan nama dan hobi kita sendiri, misalnya:\n",
    "   - \"Nama saya Budi, dan saya suka membaca buku.\"\n",
    "\n",
    "Kamu bisa menulis lebih dari satu `print()` secara berurutan, seperti ini:"
   ]
  },
  {
   "cell_type": "code",
   "execution_count": 28,
   "id": "8af76661-79f2-4800-afb7-2f70bbd86fdb",
   "metadata": {},
   "outputs": [
    {
     "name": "stdout",
     "output_type": "stream",
     "text": [
      "Saya sedang belajar Python\n",
      "Nama saya Anto, dan saya suka bermain bola\n"
     ]
    }
   ],
   "source": [
    "print(\"Saya sedang belajar Python\")\n",
    "print(\"Nama saya Anto, dan saya suka bermain bola\")"
   ]
  },
  {
   "cell_type": "markdown",
   "id": "93fea545-1608-4898-9d3e-a7452ff40b63",
   "metadata": {},
   "source": [
    "💡 **Tips:** Kita bisa menggunakan `print()` untuk menampilkan apa pun seperti teks, angka, hasil perhitungan, dan bahkan isi dari variabel.\n",
    "\n",
    "Contoh:"
   ]
  },
  {
   "cell_type": "code",
   "execution_count": 8,
   "id": "758f5527-240d-4d03-8432-f8179c40aaa1",
   "metadata": {},
   "outputs": [
    {
     "name": "stdout",
     "output_type": "stream",
     "text": [
      "8\n"
     ]
    }
   ],
   "source": [
    "print(3 + 5) # hasilnya akan menampilkan angka 8"
   ]
  },
  {
   "cell_type": "markdown",
   "id": "6d595ed9-7a27-4eda-a2f8-2257d9880905",
   "metadata": {
    "jp-MarkdownHeadingCollapsed": true
   },
   "source": [
    "### 📝 Ringkasan Bab 1\n",
    "\n",
    "- Fungsi `print()` digunakan untuk menampilkan teks atau informasi ke layar.\n",
    "- Teks ditulis dalam tanda kutip, misalnya: `\"Hello, world!\"`\n",
    "- Fungsi harus ditulis dengan tanda kurung, contohnya: `print(\"teks\")`\n"
   ]
  },
  {
   "cell_type": "markdown",
   "id": "17cbdc49-1c24-445d-9ed3-b0be28c810ef",
   "metadata": {},
   "source": [
    "## Bab 2: Variabel dan Assignment\n",
    "\n",
    "Dalam Python, **variabel** digunakan untuk menyimpan data dari suatu nilai. Ibaratnya, variabel adalah **wadah atau tempat penyimpanan** untuk nilai tertentu yang bisa kita gunakan kembali di dalam program.\n",
    "\n",
    "Contoh sederhana:"
   ]
  },
  {
   "cell_type": "code",
   "execution_count": 16,
   "id": "79b5fe37-f86f-40e8-86f9-849410f528ab",
   "metadata": {},
   "outputs": [],
   "source": [
    "nama = \"Joko\"\n",
    "umur = 18\n",
    "tinggi = 160.5"
   ]
  },
  {
   "cell_type": "markdown",
   "id": "f83e6319-0081-4eea-8fff-42a6c740eef0",
   "metadata": {},
   "source": [
    "Di Python, kita menggunakan tanda sama dengan `=` untuk **memberikan nilai (assignment)** ke variabel.\n",
    "\n",
    "Contoh:\n",
    "- `nama = \"Joko\"` → menyimpan teks `\"Joko\"` ke dalam variabel `nama`\n",
    "- `umur = 18` → menyimpan angka 18 ke dalam variabel `umur`\n",
    "- `tinggi = 160.5` → menyimpan angka desimal ke dalam variabel `tinggi`\n",
    "\n",
    "---\n",
    "\n",
    "### 🎯 Aturan Penulisan Nama Variabel di Python\n",
    "\n",
    "Saat membuat nama variabel, kamu harus mengikuti beberapa aturan:\n",
    "\n",
    "✅ **Boleh:**\n",
    "- Huruf kecil atau besar (`nama`, `Nama`) karena variabel pada Python bersifat _case sensitive_\n",
    "- Angka (tapi tidak di awal), misalnya `umur1`\n",
    "- Underscore `_`, seperti `total_harga`\n",
    "\n",
    "🚫 **Tidak boleh:**\n",
    "- Dimulai dengan angka (misalnya `1nama`)\n",
    "- Menggunakan spasi (pakai underscore `_` sebagai gantinya)\n",
    "- Menggunakan simbol seperti `@`, `!`, `-`, dll\n",
    "- Menggunakan **kata kunci Python** seperti `if`, `for`, `class`, dll (Untuk keyword ini akan dipelajari pada materi di bab berikutnya)\n",
    "\n",
    "Contoh valid:\n",
    "```python\n",
    "panjang = 10\n",
    "lebar_ruang = 5\n",
    "total1 = 100\n",
    "```\n",
    "\n",
    "Contoh tidak valid:\n",
    "```python\n",
    "1total = 100      # ❌ dimulai dengan angka\n",
    "nama lengkap = \"Ana\"  # ❌ ada spasi pada penamaan variabel\n",
    "class = \"XII TKJ\"  # ❌ class adalah keyword Python\n",
    "```"
   ]
  },
  {
   "cell_type": "markdown",
   "id": "3ed7869d-1f2b-4ef0-8663-b76db1d56f72",
   "metadata": {},
   "source": [
    "### 🔍 Menampilkan Isi Variabel dengan print()\n",
    "\n",
    "Setelah kamu membuat variabel dan memberikan nilai (assignment), kamu bisa menggunakan **fungsi `print()`** untuk melihat isi dari variabel tersebut.\n",
    "\n",
    "Contoh:"
   ]
  },
  {
   "cell_type": "code",
   "execution_count": 1,
   "id": "2323442a-9c63-413e-8fe5-43ea29515e79",
   "metadata": {},
   "outputs": [
    {
     "name": "stdout",
     "output_type": "stream",
     "text": [
      "Rendi\n",
      "18\n"
     ]
    }
   ],
   "source": [
    "nama = \"Rendi\"\n",
    "umur = 18\n",
    "\n",
    "print(nama)\n",
    "print(umur)"
   ]
  },
  {
   "cell_type": "markdown",
   "id": "a9660329-bc10-4986-8370-38f33248ad35",
   "metadata": {},
   "source": [
    "Jika ingin membuat tampilannya lebih jelas atau lebih rapi, kamu bisa menambahkan teks di dalam `print()`.\n",
    "\n",
    "Contoh:"
   ]
  },
  {
   "cell_type": "code",
   "execution_count": 2,
   "id": "3e4ee11e-fc61-4225-917c-b2154d771034",
   "metadata": {},
   "outputs": [
    {
     "name": "stdout",
     "output_type": "stream",
     "text": [
      "Nama saya adalah Rendi\n",
      "Umur saya 18 tahun\n"
     ]
    }
   ],
   "source": [
    "nama = \"Rendi\"\n",
    "umur = 18\n",
    "\n",
    "print(\"Nama saya adalah\", nama)\n",
    "print(\"Umur saya\", umur, \"tahun\")\n"
   ]
  },
  {
   "cell_type": "markdown",
   "id": "d467911f-c80d-4145-ace7-f4882954724d",
   "metadata": {},
   "source": [
    "📌 **Catatan penting:**\n",
    "- Python akan menampilkan isi variabel setelah teks jika kita memisahkannya dengan koma.\n",
    "- Kamu juga bisa menggabungkan string menggunakan **f-string** (fitur dari Python 3.6 ke atas):\n",
    "\n",
    "Contoh:\n"
   ]
  },
  {
   "cell_type": "code",
   "execution_count": 2,
   "id": "bc19a010-c0ee-4d84-a0af-92d864d62e23",
   "metadata": {},
   "outputs": [
    {
     "name": "stdout",
     "output_type": "stream",
     "text": [
      "Nama saya adalah Ricky, dan saya berumur 18 tahun.\n"
     ]
    }
   ],
   "source": [
    "nama = \"Ricky\"\n",
    "umur = 18\n",
    "\n",
    "print(f\"Nama saya adalah {nama}, dan saya berumur {umur} tahun.\")"
   ]
  },
  {
   "cell_type": "markdown",
   "id": "933e9d23-df31-4ae1-a91e-0883f16a8930",
   "metadata": {},
   "source": [
    "Dengan `print()`, kamu bisa:\n",
    "- Mengecek apakah variabel sudah berisi nilai yang benar.\n",
    "- Menampilkan informasi secara lebih interaktif kepada pengguna.\n",
    "- Melatih kemampuan membaca data yang disimpan dalam variabel.\n",
    "\n",
    "Kita akan sering menggunakan `print()` selama belajar Python, jadi pastikan kamu paham cara menggunakannya untuk menampilkan isi dari variabel kamu sendiri.\n"
   ]
  },
  {
   "cell_type": "markdown",
   "id": "cb43c61e-8ae9-4250-b68c-ef23c4c0db92",
   "metadata": {},
   "source": [
    "### ✍️ Contoh\n",
    "\n",
    "1. Buat 3 variabel:\n",
    "   - `hobi` → isi dengan hobi kamu\n",
    "   - `tahun_lahir` → isi dengan tahun lahir\n",
    "   - `berat_badan` → isi dengan berat badan kamu dalam kilogram\n",
    "\n",
    "2. Tampilkan ketiga variabel tersebut dengan `print()`\n",
    "\n",
    "Contoh hasil yang diharapkan:\n"
   ]
  },
  {
   "cell_type": "code",
   "execution_count": 38,
   "id": "3255f473-5b8b-4c01-8ef0-5909afb9741e",
   "metadata": {},
   "outputs": [
    {
     "name": "stdout",
     "output_type": "stream",
     "text": [
      "Hobi saya adalah menulis\n",
      "Saya lahir pada tahun 2006\n",
      "Berat badan saya 40 kg\n"
     ]
    }
   ],
   "source": [
    "hobi = \"menulis\"\n",
    "tahun_lahir = 2006\n",
    "berat_badan = 40\n",
    "\n",
    "print(\"Hobi saya adalah\", hobi)\n",
    "print(\"Saya lahir pada tahun\", tahun_lahir)\n",
    "print(\"Berat badan saya\", berat_badan, \"kg\")\n"
   ]
  },
  {
   "cell_type": "markdown",
   "id": "b8539d00-dd1b-42ff-bfa9-eb4c7402749c",
   "metadata": {},
   "source": [
    "### 📝 Ringkasan Bab 2\n",
    "\n",
    "- Variabel menyimpan data yang bisa digunakan kembali dalam program.\n",
    "- Assignment dilakukan dengan tanda `=`\n",
    "- Nama variabel harus mengikuti aturan penamaan yang benar.\n",
    "- Gunakan `print()` untuk menampilkan isi variabel.\n",
    "\n",
    "Contoh umum:\n",
    "```python\n",
    "nama = \"Ali\"\n",
    "umur = 17\n",
    "print(nama, \"berumur\", umur, \"tahun\")\n",
    "```"
   ]
  },
  {
   "cell_type": "markdown",
   "id": "f6e23714-472d-40b3-9480-65d17f0da9f7",
   "metadata": {},
   "source": [
    "## Bab 3: Tipe Data Dasar\n",
    "\n",
    "Di Python, setiap nilai yang kita simpan di dalam variabel memiliki tipe data tertentu. **Tipe data** menjelaskan jenis nilai yang sedang digunakan, misalnya angka, teks, atau nilai logika (benar/salah).\n",
    "\n",
    "Python memiliki banyak tipe data, namun di bab ini kita akan fokus pada **empat tipe data dasar**:\n",
    "\n",
    "1. `int` → bilangan bulat (contoh: 10, -5)\n",
    "2. `float` → bilangan desimal (contoh: 3.14, -0.5)\n",
    "3. `str` → teks atau string (contoh: \"Halo\", \"123\")\n",
    "4. `bool` → nilai logika (True atau False)\n"
   ]
  },
  {
   "cell_type": "markdown",
   "id": "976ae30a-afe2-4c99-8794-80fb9ffc17ba",
   "metadata": {},
   "source": [
    "### 1. int (Integer)\n",
    "\n",
    "Tipe data `int` digunakan untuk menyimpan **bilangan bulat**, baik positif maupun negatif, tanpa desimal.\n"
   ]
  },
  {
   "cell_type": "code",
   "execution_count": 3,
   "id": "6e6023c1-eab5-4550-a15c-7de6e76ab991",
   "metadata": {},
   "outputs": [
    {
     "name": "stdout",
     "output_type": "stream",
     "text": [
      "20\n",
      "2025\n",
      "<class 'int'>\n"
     ]
    }
   ],
   "source": [
    "umur = 20\n",
    "tahun = 2025\n",
    "\n",
    "print(umur)\n",
    "print(tahun)\n",
    "print(type(umur)) # Menampilkan tipe data"
   ]
  },
  {
   "cell_type": "markdown",
   "id": "483ced95-4f06-4598-83d2-1e9ecf6fdc7f",
   "metadata": {},
   "source": [
    "### 2. float\n",
    "\n",
    "Tipe data `float` digunakan untuk menyimpan **bilangan desimal** (pecahan).\n",
    "\n",
    "Contoh:\n"
   ]
  },
  {
   "cell_type": "code",
   "execution_count": 3,
   "id": "3740f422-7a87-4bef-ad22-8542374ba09f",
   "metadata": {},
   "outputs": [
    {
     "name": "stdout",
     "output_type": "stream",
     "text": [
      "160.5\n",
      "<class 'float'>\n"
     ]
    }
   ],
   "source": [
    "tinggi = 160.5\n",
    "berat = 40.2\n",
    "\n",
    "print(tinggi)\n",
    "print(type(berat))"
   ]
  },
  {
   "cell_type": "markdown",
   "id": "2b6ed135-8e73-472b-bcb8-dc3a420eb415",
   "metadata": {},
   "source": [
    "### 3. str (String)\n",
    "\n",
    "Tipe data `str` digunakan untuk menyimpan **teks** atau rangkaian karakter, ditulis di dalam **tanda kutip**.\n",
    "\n",
    "Kamu bisa menggunakan tanda kutip satu `'...'` atau kutip dua `\"...\"`."
   ]
  },
  {
   "cell_type": "code",
   "execution_count": 3,
   "id": "0df7b483-a0b2-419a-a8eb-f239c1447bbd",
   "metadata": {},
   "outputs": [
    {
     "name": "stdout",
     "output_type": "stream",
     "text": [
      "Anwar\n",
      "<class 'str'>\n"
     ]
    }
   ],
   "source": [
    "nama = \"Anwar\"\n",
    "alamat = 'Jakarta'\n",
    "\n",
    "print(nama)\n",
    "print(type(alamat))"
   ]
  },
  {
   "cell_type": "markdown",
   "id": "9cc9e0da-c7a9-43ad-ba74-6de4f5478ece",
   "metadata": {},
   "source": [
    "### 4. bool (Boolean)\n",
    "\n",
    "Tipe data `bool` hanya memiliki dua nilai: `True` dan `False`.\n",
    "\n",
    "Tipe data ini sering digunakan dalam kondisi (seperti `if`) untuk membuat keputusan dalam program.\n"
   ]
  },
  {
   "cell_type": "code",
   "execution_count": 6,
   "id": "1c913c37-a615-4622-bcd7-a5c51a244cab",
   "metadata": {},
   "outputs": [
    {
     "name": "stdout",
     "output_type": "stream",
     "text": [
      "True\n",
      "<class 'bool'>\n"
     ]
    }
   ],
   "source": [
    "lulus = True\n",
    "punya_sim = False\n",
    "\n",
    "print(lulus)\n",
    "print(type(punya_sim))"
   ]
  },
  {
   "cell_type": "markdown",
   "id": "cff0b0c9-83de-4d36-8202-6d0d195a39b0",
   "metadata": {},
   "source": [
    "### 🔍 Cara Mengecek Tipe Data\n",
    "\n",
    "Gunakan fungsi `type()` untuk mengetahui tipe data dari suatu nilai atau variabel.\n",
    "\n",
    "Contoh:\n"
   ]
  },
  {
   "cell_type": "code",
   "execution_count": 7,
   "id": "92a328a0-4fee-453f-aa96-f84136c47442",
   "metadata": {},
   "outputs": [
    {
     "name": "stdout",
     "output_type": "stream",
     "text": [
      "<class 'str'>\n"
     ]
    }
   ],
   "source": [
    "x = \"Halo\"\n",
    "print(type(x))  # Hasilnya: <class 'str'>"
   ]
  },
  {
   "cell_type": "markdown",
   "id": "a833fe78-aa1f-4c7b-b28b-0cb6dfa3f1b3",
   "metadata": {},
   "source": [
    "### 💡 Konversi tipe data\n",
    "\n",
    "- Python secara otomatis mengenali tipe data saat kamu membuat variabel.\n",
    "- Tapi kamu juga bisa **mengubah tipe data** dengan fungsi seperti:\n",
    "  - `int()` untuk mengubah ke bilangan bulat\n",
    "  - `float()` untuk ke desimal\n",
    "  - `str()` untuk jadi teks\n",
    "  - `bool()` untuk jadi True/False\n",
    "\n",
    "Contoh:\n"
   ]
  },
  {
   "cell_type": "code",
   "execution_count": 4,
   "id": "cbf7fb6b-0378-4c58-8190-711a97d342e2",
   "metadata": {},
   "outputs": [
    {
     "name": "stdout",
     "output_type": "stream",
     "text": [
      "123 bertipe data <class 'str'>\n",
      "123 bertipe data <class 'int'>\n",
      "123 bertipe data <class 'int'>\n"
     ]
    }
   ],
   "source": [
    "angka = \"123\" # pada baris 1, variabel 'angka' bertipe string\n",
    "angka_int = int(angka) # akan tetapi pada baris 2, variabel 'angka' dikonversi menjadi bertipe data int (integer) menggunakan perintah int()\n",
    "\n",
    "print(angka, \"bertipe data\",type(angka)) # walaupun pada baris ke 2 variabel angka sudah diubah menjadi bertipe integer, kita masih bisa memunculkan nilai\n",
    "# dari variabel angka bertipe string karena memiliki nama variabel yang berbeda dengan yang sudah diubah menjadi integer.\n",
    "\n",
    "print(angka_int, \"bertipe data\",type(angka_int))\n",
    "\n",
    "# Akan tetapi lain halnya jika kita mengonversi tipe data yang memiliki nama variabel yang sama dengan sebelumnya maka variabel yang akan terpanggil\n",
    "# adalah variabel yang paling terbaru, seperti contoh di bawah ini\n",
    "number = 123\n",
    "number_int = int(number)\n",
    "\n",
    "print(number, \"bertipe data\", type(number))"
   ]
  },
  {
   "cell_type": "markdown",
   "id": "492615fb-824a-4804-86de-90fb222b0bd5",
   "metadata": {},
   "source": [
    "### ✍️ Contoh\n",
    "\n",
    "1. Buat 4 variabel:\n",
    "   - `nama_lengkap` (tipe: str)\n",
    "   - `usia` (tipe: int)\n",
    "   - `tinggi_badan` (tipe: float)\n",
    "   - `sudah_lulus` (tipe: bool)\n",
    "\n",
    "2. Tampilkan masing-masing variabel dengan `print()` dan cek tipenya dengan `type()`\n",
    "\n",
    "Contoh hasil yang diharapkan:\n"
   ]
  },
  {
   "cell_type": "code",
   "execution_count": 5,
   "id": "40c6dfee-7668-4413-bdd9-2363bc672c2c",
   "metadata": {},
   "outputs": [
    {
     "name": "stdout",
     "output_type": "stream",
     "text": [
      "Nama saya adalah Al Ghazali\n",
      "Usia saya 18 tahun\n",
      "Tinggi saya 160.5 cm\n",
      "Sudah lulus: True\n",
      "<class 'str'>\n",
      "<class 'int'>\n",
      "<class 'float'>\n",
      "<class 'bool'>\n"
     ]
    }
   ],
   "source": [
    "nama_lengkap = \"Al Ghazali\"\n",
    "usia = 18\n",
    "tinggi_badan = 160.5\n",
    "sudah_lulus = True\n",
    "\n",
    "print(\"Nama saya adalah\", nama_lengkap)\n",
    "print(\"Usia saya\", usia, \"tahun\")\n",
    "print(\"Tinggi saya\", tinggi_badan, \"cm\")\n",
    "print(\"Sudah lulus:\", sudah_lulus)\n",
    "\n",
    "print(type(nama_lengkap))\n",
    "print(type(usia))\n",
    "print(type(tinggi_badan))\n",
    "print(type(sudah_lulus))"
   ]
  },
  {
   "cell_type": "markdown",
   "id": "66d71ffc-4b60-4148-aef3-31e8dd57681b",
   "metadata": {},
   "source": [
    "### 📝 Ringkasan Bab 3\n",
    "\n",
    "- Python memiliki 4 tipe data dasar:\n",
    "  - `int`: bilangan bulat\n",
    "  - `float`: bilangan desimal\n",
    "  - `str`: teks\n",
    "  - `bool`: nilai logika True/False\n",
    "- Gunakan fungsi `type()` untuk memeriksa tipe data.\n",
    "- Kamu bisa mengubah tipe data menggunakan `int()`, `str()`, dll.\n"
   ]
  },
  {
   "cell_type": "markdown",
   "id": "db8ad5bf-d68f-470f-9c25-07dca36ec5a4",
   "metadata": {},
   "source": [
    "## Bab 4: Komentar dalam Python\n",
    "\n",
    "Komentar adalah baris dalam program yang tidak akan dijalankan oleh Python. Komentar digunakan untuk:\n",
    "- Memberikan penjelasan pada kode\n",
    "- Memberi catatan untuk diri sendiri atau orang lain\n",
    "- Menonaktifkan bagian kode saat pengujian\n",
    "\n",
    "Python menggunakan tanda pagar `#` untuk membuat komentar satu baris.\n"
   ]
  },
  {
   "cell_type": "code",
   "execution_count": 5,
   "id": "73670d0a-65a5-4e58-93da-38aa26f392c0",
   "metadata": {},
   "outputs": [
    {
     "name": "stdout",
     "output_type": "stream",
     "text": [
      "Hello, World!\n"
     ]
    }
   ],
   "source": [
    "# Ini adalah komentar\n",
    "# Program ini menampilkan teks ke layar\n",
    "print(\"Hello, World!\")"
   ]
  },
  {
   "cell_type": "markdown",
   "id": "6ff4f89f-a495-459a-ba03-eea95774e7e4",
   "metadata": {},
   "source": [
    "Kamu juga bisa menulis komentar di samping kode:"
   ]
  },
  {
   "cell_type": "code",
   "execution_count": 6,
   "id": "2aa4b156-0e9b-4f07-ae48-7349a4abbc8e",
   "metadata": {},
   "outputs": [],
   "source": [
    "umur = 18    # Menyimpan umur pengguna"
   ]
  },
  {
   "cell_type": "markdown",
   "id": "9016b035-976b-422c-8af1-94c982bf7892",
   "metadata": {},
   "source": [
    "Untuk komentar panjang, kamu bisa menulis komentar di beberapa baris dengan banyak tanda `#`.\n",
    "\n",
    "Python tidak memiliki komentar blok resmi seperti `/* */` di C atau Java.\n",
    "\n",
    "Namun, banyak programmer juga menggunakan triple quote (`''' ... '''` atau `\"\"\" ... \"\"\"`) sebagai komentar multiline **sementara**, meskipun ini aslinya digunakan untuk string.\n"
   ]
  },
  {
   "cell_type": "code",
   "execution_count": 8,
   "id": "68ebb10b-5999-4655-95e3-6e74608cf384",
   "metadata": {},
   "outputs": [
    {
     "name": "stdout",
     "output_type": "stream",
     "text": [
      "Tes komentar panjang\n"
     ]
    }
   ],
   "source": [
    "'''\n",
    "Ini komentar panjang.\n",
    "Biasanya digunakan untuk dokumentasi fungsi.\n",
    "Tapi bisa juga dipakai sebagai komentar multiline.\n",
    "'''\n",
    "\n",
    "print(\"Tes komentar panjang\")"
   ]
  },
  {
   "cell_type": "markdown",
   "id": "b7630978-b467-4340-92fd-3c81196443fa",
   "metadata": {},
   "source": [
    "### ✨ Tips Menulis Komentar yang Baik\n",
    "\n",
    "- Tulis komentar untuk menjelaskan “mengapa” kode itu ditulis, bukan hanya “apa”.\n",
    "- Jangan berlebihan—komentar sebaiknya singkat dan jelas.\n",
    "- Gunakan bahasa yang mudah dipahami.\n",
    "\n",
    "Contoh yang buruk:\n",
    "```python\n",
    "a = 5  # menyimpan angka 5\n"
   ]
  },
  {
   "cell_type": "markdown",
   "id": "8f842970-c182-4fc9-9112-11e5968adc9c",
   "metadata": {},
   "source": [
    "Karena sudah jelas dari kode bahwa variabel a menyimpan nilai angka 5, maka komentar seperti itu tidak diperlukan."
   ]
  },
  {
   "cell_type": "markdown",
   "id": "18369da2-6f1a-4ebd-8914-dffec0b020cc",
   "metadata": {},
   "source": [
    "---\n",
    "### ✍️ Contoh\n",
    "\n",
    "1. Buat program sederhana yang menampilkan nama dan umur.\n",
    "2. Tambahkan komentar yang menjelaskan setiap langkah kode.\n",
    "\n",
    "Contoh hasil akhir:\n",
    "```python\n",
    "# Program menampilkan nama dan umur\n",
    "\n",
    "nama = \"Wawan\"        # Menyimpan nama\n",
    "umur = 18             # Menyimpan umur\n",
    "\n",
    "print(nama)           # Menampilkan nama\n",
    "print(umur)           # Menampilkan umur\n"
   ]
  },
  {
   "cell_type": "markdown",
   "id": "9cc6ad9e-d03f-4af3-bedc-a57346e660b7",
   "metadata": {},
   "source": [
    "### 📝 Ringkasan\n",
    "\n",
    "- Gunakan `#` untuk komentar satu baris.\n",
    "- Gunakan banyak `#` atau triple quote (`'''`) untuk komentar panjang.\n",
    "- Komentar penting untuk membuat kode mudah dibaca dan dipahami."
   ]
  },
  {
   "cell_type": "markdown",
   "id": "0d9357f0-c2ef-4793-a932-8a22ec342448",
   "metadata": {},
   "source": [
    "## Bab 5: Operator (Operasi Aritmatika)\n",
    "\n",
    "Operator adalah simbol atau karakter yang digunakan untuk melakukan **perhitungan** atau **operasi logika** pada variabel dan nilai.\n",
    "\n",
    "Pada bab ini kita akan fokus dulu pada **operator aritmatika**, yaitu operator yang digunakan untuk menghitung angka seperti penjumlahan, pengurangan, perkalian, pembagian, dll.\n"
   ]
  },
  {
   "cell_type": "markdown",
   "id": "810426d5-9e9c-490e-9e1d-c1863fc8ef5f",
   "metadata": {},
   "source": [
    "### 📐 Operator Aritmatika Dasar\n",
    "\n",
    "| Operator | Simbol | Contoh       | Keterangan                |\n",
    "|----------|--------|--------------|----------------------------|\n",
    "| Penjumlahan | `+`    | `a + b`      | Menjumlahkan dua nilai     |\n",
    "| Pengurangan| `-`    | `a - b`      | Mengurangi dua nilai       |\n",
    "| Perkalian  | `*`    | `a * b`      | Mengalikan dua nilai       |\n",
    "| Pembagian  | `/`    | `a / b`      | Membagi dua nilai (hasil float) |\n",
    "| Pembagian Bulat | `//` | `a // b` | Membagi dan membulatkan ke bawah |\n",
    "| Sisa Bagi (modulus) | `%` | `a % b` | Sisa dari pembagian         |\n",
    "| Pangkat     | `**`   | `a ** b`    | Perpangkatan                |\n"
   ]
  },
  {
   "cell_type": "code",
   "execution_count": 6,
   "id": "2ee23268-8942-421a-9d63-2d6e7a5ad139",
   "metadata": {},
   "outputs": [
    {
     "name": "stdout",
     "output_type": "stream",
     "text": [
      "Penjumlahan: 13\n",
      "Pengurangan: 7\n",
      "Perkalian: 30\n",
      "Pembagian: 3.3333333333333335\n",
      "Pembagian bulat: 3\n",
      "Sisa bagi: 1\n",
      "Pangkat: 1000\n"
     ]
    }
   ],
   "source": [
    "a = 10\n",
    "b = 3\n",
    "\n",
    "print(\"Penjumlahan:\", a + b)\n",
    "print(\"Pengurangan:\", a - b)\n",
    "print(\"Perkalian:\", a * b)\n",
    "print(\"Pembagian:\", a / b)\n",
    "print(\"Pembagian bulat:\", a // b)\n",
    "print(\"Sisa bagi:\", a % b)\n",
    "print(\"Pangkat:\", a ** b)"
   ]
  },
  {
   "cell_type": "markdown",
   "id": "52ac3498-2bf3-4b6c-97e2-3083525074dd",
   "metadata": {},
   "source": [
    "### ⚠️ Catatan:\n",
    "- Hasil dari `/` (pembagian biasa) **selalu** berupa `float`, meskipun hasilnya genap.\n",
    "- Untuk mendapatkan hasil **bilangan bulat**, gunakan `//`.\n",
    "\n",
    "Contoh:\n"
   ]
  },
  {
   "cell_type": "code",
   "execution_count": 7,
   "id": "cdfd3f58-190b-4a13-b8b7-adb70151f37c",
   "metadata": {},
   "outputs": [
    {
     "name": "stdout",
     "output_type": "stream",
     "text": [
      "5.0\n",
      "5\n"
     ]
    }
   ],
   "source": [
    "print(10 / 2)   # Hasil: 5.0 (float)\n",
    "print(10 // 2)  # Hasil: 5 (int)"
   ]
  },
  {
   "cell_type": "markdown",
   "id": "a08984c9-75b2-417b-9401-78fd73fd47a8",
   "metadata": {},
   "source": [
    "### 🧪 Menggunakan Operator pada Variabel\n",
    "\n",
    "Kamu juga bisa menggunakan operator aritmatika langsung pada variabel:\n",
    "\n",
    "Contoh:\n"
   ]
  },
  {
   "cell_type": "code",
   "execution_count": 6,
   "id": "89abd3cb-5b39-4e32-b1bd-1fe7823a2c11",
   "metadata": {},
   "outputs": [
    {
     "name": "stdout",
     "output_type": "stream",
     "text": [
      "Total belanja: 60000\n",
      "Total belanja: 60000\n"
     ]
    }
   ],
   "source": [
    "harga_barang = 15000\n",
    "jumlah_barang = 4\n",
    "total = harga_barang * jumlah_barang\n",
    "\n",
    "print(\"Total belanja:\", total)\n",
    "\n",
    "# atau seperti ini\n",
    "harga_barang = 15000\n",
    "jumlah_barang = 4\n",
    "print(\"Total belanja:\", harga_barang * jumlah_barang)"
   ]
  },
  {
   "cell_type": "markdown",
   "id": "c8205d1f-19e1-4608-bb67-076868892dd3",
   "metadata": {},
   "source": [
    "### 🧮 Urutan Operasi (Operator Precedence)\n",
    "\n",
    "Python mengikuti aturan matematika dalam urutan penghitungan, yaitu:\n",
    "\n",
    "1. `()` tanda kurung\n",
    "2. `**` pangkat\n",
    "3. `*`, `/`, `//`, `%` (perkalian dan pembagian)\n",
    "4. `+`, `-` (penjumlahan dan pengurangan)\n",
    "\n",
    "Contoh:\n"
   ]
  },
  {
   "cell_type": "code",
   "execution_count": 7,
   "id": "0f37d4a7-e184-4810-8ee9-7fcb20e0d01c",
   "metadata": {},
   "outputs": [
    {
     "name": "stdout",
     "output_type": "stream",
     "text": [
      "Tanpa kurung: 11\n",
      "Dengan kurung: 21\n"
     ]
    }
   ],
   "source": [
    "hasil = 5 + 2 * 3\n",
    "print(\"Tanpa kurung:\", hasil)\n",
    "\n",
    "hasil2 = (5 + 2) * 3\n",
    "print(\"Dengan kurung:\", hasil2)"
   ]
  },
  {
   "cell_type": "markdown",
   "id": "4119bcdd-52a7-4ef9-8b38-1bde625fa94e",
   "metadata": {},
   "source": [
    "### ✍️ Contoh\n",
    "\n",
    "1. Buat dua variabel: `panjang` dan `lebar`, lalu hitung dan tampilkan **luas persegi panjang**.\n",
    "2. Buat program untuk menghitung **sisa uang** setelah membeli 3 barang seharga 20.000 dengan uang 100.000.\n",
    "3. Hitung hasil dari:\n",
    "   - `5 + 4 * 2`\n",
    "   - `(5 + 4) * 2`\n"
   ]
  },
  {
   "cell_type": "code",
   "execution_count": 8,
   "id": "5facd8eb-61de-49bc-81bf-5753ef233514",
   "metadata": {},
   "outputs": [
    {
     "name": "stdout",
     "output_type": "stream",
     "text": [
      "Luas persegi panjang: 50\n",
      "Sisa uang: 40000\n",
      "13\n",
      "18\n"
     ]
    }
   ],
   "source": [
    "# Contoh 1\n",
    "panjang = 10\n",
    "lebar = 5\n",
    "luas = panjang * lebar\n",
    "print(\"Luas persegi panjang:\", luas)\n",
    "\n",
    "# Contoh 2\n",
    "uang = 100000\n",
    "harga = 20000\n",
    "total_pengeluaran = harga * 3\n",
    "sisa_uang = uang - total_pengeluaran\n",
    "print(\"Sisa uang:\", sisa_uang)\n",
    "\n",
    "# Contoh 3\n",
    "print(5 + 4 * 2)\n",
    "print((5 + 4) * 2)\n"
   ]
  },
  {
   "cell_type": "markdown",
   "id": "333255ac-8de2-437a-a3ff-5164e3a532b3",
   "metadata": {},
   "source": [
    "### 📝 Ringkasan Bab 5\n",
    "\n",
    "- Operator aritmatika digunakan untuk menghitung angka.\n",
    "- Gunakan:\n",
    "  - `+` untuk tambah\n",
    "  - `-` untuk kurang\n",
    "  - `*` untuk kali\n",
    "  - `/` untuk bagi (hasilnya akan bertipe data float)\n",
    "  - `//` untuk pembagian bulat\n",
    "  - `%` untuk sisa bagi\n",
    "  - `**` untuk pangkat\n",
    "- Gunakan tanda kurung `()` untuk mengatur urutan operasi\n"
   ]
  },
  {
   "cell_type": "markdown",
   "id": "7e158c8d-e758-482a-ab34-1c29e40c9e78",
   "metadata": {},
   "source": [
    "## Bab 6: Input dari Pengguna\n",
    "\n",
    "Untuk membuat program interaktif, kita memerlukan data dari pengguna. Python menyediakan fungsi `input()` untuk membaca data dari keyboard atau data yang diberikan oleh user. Fungsi `input()` akan selalu **mengembalikan data bertipe `str` (string)**. Jika kita ingin tipe data lain (misalnya `int` atau `float`), kita perlu mengonversinya."
   ]
  },
  {
   "cell_type": "markdown",
   "id": "41c11eaf-466c-43bb-a816-598a4885eef3",
   "metadata": {},
   "source": [
    "### 📥 Contoh Input Sederhana"
   ]
  },
  {
   "cell_type": "code",
   "execution_count": 1,
   "id": "0107f788-3e41-408e-8641-b4802ed6842f",
   "metadata": {},
   "outputs": [
    {
     "name": "stdin",
     "output_type": "stream",
     "text": [
      "Masukkan nama kamu:  ryan\n"
     ]
    },
    {
     "name": "stdout",
     "output_type": "stream",
     "text": [
      "Halo, ryan\n"
     ]
    }
   ],
   "source": [
    "nama = input(\"Masukkan nama kamu: \")\n",
    "print(\"Halo,\", nama)"
   ]
  },
  {
   "cell_type": "markdown",
   "id": "efbb81f0-a8e2-450a-a0eb-f1083d2c8c60",
   "metadata": {},
   "source": [
    "Ketika perintah `input()` dijalankan, nantinya program membuka terminal dan meminta user untuk memasukkan data yang diinginkan (bisa berupa angka atau yang lain-lain)."
   ]
  },
  {
   "cell_type": "markdown",
   "id": "414a0529-2ac9-4be8-8add-a0544baf32be",
   "metadata": {},
   "source": [
    "### 🔄 Konversi Tipe Data\n",
    "\n",
    "Karena hasil `input()` adalah string, \n",
    "jika kita ingin mendapatkan angka, kita perlu mengonversinya dengan `int()` atau `float()`.\n",
    "Contoh:"
   ]
  },
  {
   "cell_type": "code",
   "execution_count": 3,
   "id": "b36c913b-1b43-4d2c-9a57-b6cfc6ca4faf",
   "metadata": {},
   "outputs": [
    {
     "name": "stdin",
     "output_type": "stream",
     "text": [
      "Berapa umur kamu?  19\n"
     ]
    },
    {
     "name": "stdout",
     "output_type": "stream",
     "text": [
      "<class 'str'>\n",
      "Umur kamu tahun depan: 20\n",
      "<class 'int'>\n"
     ]
    }
   ],
   "source": [
    "umur = input(\"Berapa umur kamu? \")\n",
    "print(type(umur))  # hasilnya <class 'str'>\n",
    "\n",
    "# Konversi ke int\n",
    "umur = int(umur)\n",
    "print(\"Umur kamu tahun depan:\", umur + 1)\n",
    "print(type(umur)) # hasilnya akan menjadi <class 'int'> yang menunjukkan bahwa tipe data ini sudah berubah menjadi integer"
   ]
  },
  {
   "cell_type": "markdown",
   "id": "4d44269c-83c4-4355-8bc3-f050bcfcf796",
   "metadata": {},
   "source": [
    "### 📌 Input Bilangan Desimal (float)"
   ]
  },
  {
   "cell_type": "code",
   "execution_count": 4,
   "id": "48e13846-d828-43f2-8c98-e33b22cfd62a",
   "metadata": {},
   "outputs": [
    {
     "name": "stdin",
     "output_type": "stream",
     "text": [
      "Masukkan tinggi badan (cm):  160\n"
     ]
    },
    {
     "name": "stdout",
     "output_type": "stream",
     "text": [
      "Tinggi kamu adalah: 160.0 cm\n"
     ]
    }
   ],
   "source": [
    "tinggi = float(input(\"Masukkan tinggi badan (cm): \"))\n",
    "print(\"Tinggi kamu adalah:\", tinggi, \"cm\")"
   ]
  },
  {
   "cell_type": "markdown",
   "id": "4bc473f1-d7b7-4668-9104-02415cf406cb",
   "metadata": {},
   "source": [
    "### ✅ Tips Menangani Input\n",
    "\n",
    "- Selalu pastikan data diubah ke tipe yang sesuai (`int`, `float`) sebelum digunakan untuk operasi matematika.\n",
    "- Jika tidak yakin user akan selalu memasukkan angka, \n",
    "  bisa gunakan `try-except` untuk menghindari error (akan dipelajari lebih lanjut pada Exception Handling)."
   ]
  },
  {
   "cell_type": "markdown",
   "id": "51734346-a01b-4e02-be95-baddf7435663",
   "metadata": {},
   "source": [
    "### ✍️ Contoh\n",
    "\n",
    "1. Minta pengguna memasukkan nama dan usia, lalu tampilkan dengan format:\n",
    "   - Halo, nama kamu adalah <nama> dan umur kamu <usia> tahun.\n",
    "2. Buat program yang meminta panjang dan lebar persegi panjang dari user, lalu hitung luasnya."
   ]
  },
  {
   "cell_type": "code",
   "execution_count": 5,
   "id": "4aae05da-8077-441e-b0f7-649d59995fd3",
   "metadata": {},
   "outputs": [
    {
     "name": "stdin",
     "output_type": "stream",
     "text": [
      "Masukkan nama:  anita\n",
      "Masukkan umur:  20\n"
     ]
    },
    {
     "name": "stdout",
     "output_type": "stream",
     "text": [
      "Halo, nama kamu adalah anita dan umur kamu 20 tahun.\n"
     ]
    },
    {
     "name": "stdin",
     "output_type": "stream",
     "text": [
      "Masukkan panjang:  20\n",
      "Masukkan lebar:  15\n"
     ]
    },
    {
     "name": "stdout",
     "output_type": "stream",
     "text": [
      "Luas persegi panjang adalah: 300.0\n"
     ]
    }
   ],
   "source": [
    "# Latihan 1\n",
    "nama = input(\"Masukkan nama: \")\n",
    "usia = int(input(\"Masukkan umur: \"))\n",
    "\n",
    "print(f\"Halo, nama kamu adalah {nama} dan umur kamu {usia} tahun.\")\n",
    "\n",
    "# Latihan 2\n",
    "panjang = float(input(\"Masukkan panjang: \"))\n",
    "lebar = float(input(\"Masukkan lebar: \"))\n",
    "luas = panjang * lebar\n",
    "\n",
    "print(\"Luas persegi panjang adalah:\", luas)"
   ]
  },
  {
   "cell_type": "markdown",
   "id": "f4718c51-7b07-484d-9def-d3d109d5cf9e",
   "metadata": {},
   "source": [
    "### 📝 Ringkasan Bab 6\n",
    "\n",
    "- Gunakan `input()` untuk mengambil data dari user.\n",
    "- Data dari `input()` selalu bertipe `str`.\n",
    "- Gunakan `int()` atau `float()` untuk mengonversi data sesuai kebutuhan."
   ]
  },
  {
   "cell_type": "markdown",
   "id": "679f238e-27be-436e-8bf4-e7ee9d44ac37",
   "metadata": {},
   "source": [
    "## Bab 7: Percabangan (if, elif, else)\n",
    "\n",
    "Percabangan (kondisional) memungkinkan kita untuk membuat program yang bisa mengambil keputusan berdasarkan kondisi tertentu.  \n",
    "Di Python, percabangan menggunakan kata kunci:\n",
    "- if\n",
    "- elif (else if)\n",
    "- else\n",
    "  \n",
    "Percabangan digunakan untuk mengevaluasi kondisi tertentu dan menjalankan kode yang berbeda tergantung kondisinya.  \n",
    "Struktur umumnya seperti ini:\n",
    "```python\n",
    "if kondisi:\n",
    "    # baris kode jika kondisi True\n",
    "elif kondisi_lain:\n",
    "    # baris kode jika kondisi_lain True\n",
    "else:\n",
    "    # baris kode jika semua kondisi False\n",
    "```\n",
    "Kode di atas bisa diartikan seperti ini:  \n",
    "Jika (if) kondisinya True:\n",
    "    Maka jalankan perintah di baris ini\n",
    "Jika (elif) kondisi lain True:\n",
    "    Maka jalankan perintah di baris ini\n",
    "Jika tidak True (menjadi False) (else):\n",
    "    Maka jalankan perintah ini\n",
    "\n"
   ]
  },
  {
   "cell_type": "markdown",
   "id": "237b8d07-7c0d-40ed-93a3-4d0c0b3fd5d7",
   "metadata": {},
   "source": [
    "### 🔷 if else"
   ]
  },
  {
   "cell_type": "code",
   "execution_count": 5,
   "id": "96bb16d3-2a89-466b-8f98-5133108629a9",
   "metadata": {},
   "outputs": [
    {
     "name": "stdin",
     "output_type": "stream",
     "text": [
      "Masukkan umur kamu:  12\n"
     ]
    },
    {
     "name": "stdout",
     "output_type": "stream",
     "text": [
      "Kamu masih anak-anak.\n"
     ]
    }
   ],
   "source": [
    "umur = int(input(\"Masukkan umur kamu: \"))\n",
    "\n",
    "if umur >= 18:\n",
    "    print(\"Kamu sudah dewasa.\")\n",
    "else:\n",
    "    print(\"Kamu masih anak-anak.\")\n",
    "    \n",
    "# Kode di atas menjelaskan seperti ini:\n",
    "# \n",
    "# jika variabel umur lebih besar sama dengan dari 18:\n",
    "#    maka print output kalimat \"Kamu sudah besar\"\n",
    "# jika tidak:\n",
    "#    maka print output kalimat \"Kamu masih anak-anak\n",
    "#\n",
    "# perintah else juga bisa berarti \"Jika variabel umur tidak lebih besar dari 18\" ataupun \"jika tidak ada input yang memenuhi kriteria/kondisi\""
   ]
  },
  {
   "cell_type": "markdown",
   "id": "0f8888dc-06c0-4286-b020-d8f549e7f3f3",
   "metadata": {},
   "source": [
    "### 🔷 if elif else\n",
    "\n",
    "Jika kita ingin menambahkan beberapa kondisi berbeda, kita tinggal menambahkan fungsi `elif` di antara if dan else."
   ]
  },
  {
   "cell_type": "code",
   "execution_count": 9,
   "id": "81c87e94-54d5-4e85-98c7-03aa97f932de",
   "metadata": {},
   "outputs": [
    {
     "name": "stdin",
     "output_type": "stream",
     "text": [
      "Masukkan nilai ujian kamu:  90\n"
     ]
    },
    {
     "name": "stdout",
     "output_type": "stream",
     "text": [
      "Grade A\n"
     ]
    }
   ],
   "source": [
    "nilai = int(input(\"Masukkan nilai ujian kamu: \"))\n",
    "\n",
    "if nilai >= 90:\n",
    "    print(\"Grade A\")\n",
    "elif nilai >= 80:\n",
    "    print(\"Grade B\")\n",
    "elif nilai >= 70:\n",
    "    print(\"Grade C\")\n",
    "elif nilai >= 60:\n",
    "    print(\"Grade D\")\n",
    "else:\n",
    "    print(\"Grade E (Tidak lulus)\")\n",
    "\n",
    "# Kode yang tertulis di atas bisa dijelaskan seperti ini:\n",
    "# \n",
    "# jika variabel nilai lebih besar sama dengan dari 90:\n",
    "#   maka outputnya Grade A\n",
    "# lain jika variabel nilai lebih besar sama dengan dari 80:\n",
    "#    maka outputnya Grade B\n",
    "# lain jika variabel nilai lebih besar sama dengan dari 70:\n",
    "#    maka outputnya Grade C\n",
    "# lain jika variabel nilai lebih besar sama dengan dari 60:\n",
    "#    maka outputnya Grade D\n",
    "# jika tidak:\n",
    "#    maka outputnya Grade E (tidak lulus)"
   ]
  },
  {
   "cell_type": "markdown",
   "id": "15b8aae6-35ea-457f-8aaa-2e9762bb560f",
   "metadata": {},
   "source": [
    "### 🔷 Percabangan bersarang (Nested if)\n",
    "Kita juga bisa menulis `if` lain di dalam fungsi `if`"
   ]
  },
  {
   "cell_type": "code",
   "execution_count": 14,
   "id": "978f89ca-25f5-4046-a87b-c65b470b6fef",
   "metadata": {},
   "outputs": [
    {
     "name": "stdin",
     "output_type": "stream",
     "text": [
      "Masukkan umur kamu:  90\n"
     ]
    },
    {
     "name": "stdout",
     "output_type": "stream",
     "text": [
      "Kamu sudah dewasa.\n",
      "Kamu sudah lansia.\n"
     ]
    }
   ],
   "source": [
    "umur = int(input(\"Masukkan umur kamu: \"))\n",
    "\n",
    "if umur >= 18:\n",
    "    print(\"Kamu sudah dewasa.\")\n",
    "    if umur >= 65:\n",
    "        print(\"Kamu sudah lansia.\")\n",
    "else:\n",
    "    print(\"Kamu masih anak-anak.\")"
   ]
  },
  {
   "cell_type": "markdown",
   "id": "f65c4c15-23da-4a79-bceb-b13bfcbd8158",
   "metadata": {},
   "source": [
    "### ✍️ Contoh\n",
    "\n",
    "1. Minta user memasukkan suhu dalam Celsius.  \n",
    "   Jika suhu > 30, cetak \"Cuaca panas\".  \n",
    "   Jika suhu antara 20 - 30, cetak \"Cuaca sejuk\".  \n",
    "   Jika suhu < 20, cetak \"Cuaca dingin\".  \n",
    "\n",
    "2. Minta user memasukkan angka.  \n",
    "   Tampilkan apakah angka tersebut positif, negatif, atau nol."
   ]
  },
  {
   "cell_type": "code",
   "execution_count": 4,
   "id": "7b0c8862-0e96-433b-ba9b-7e47c9a8b369",
   "metadata": {},
   "outputs": [
    {
     "name": "stdin",
     "output_type": "stream",
     "text": [
      "Masukkan suhu dalm celcius:  10\n"
     ]
    },
    {
     "name": "stdout",
     "output_type": "stream",
     "text": [
      "Cuaca dingin\n"
     ]
    },
    {
     "name": "stdin",
     "output_type": "stream",
     "text": [
      "Masukkan sebuah angka : 20\n"
     ]
    },
    {
     "name": "stdout",
     "output_type": "stream",
     "text": [
      "Angka positif\n"
     ]
    }
   ],
   "source": [
    "# Contoh 1\n",
    "\n",
    "suhu = float(input(\"Masukkan suhu dalm celcius: \"))\n",
    "\n",
    "if suhu > 30:\n",
    "    print(\"Cuaca panas\")\n",
    "elif suhu >= 20:\n",
    "    print(\"Cuaca sejuk\")\n",
    "else:\n",
    "    print(\"Cuaca dingin\")\n",
    "\n",
    "# Contoh 2\n",
    "\n",
    "angka = int(input(\"Masukkan sebuah angka :\"))\n",
    "\n",
    "if angka > 0:\n",
    "    print(\"Angka positif\")\n",
    "elif angka < 0:\n",
    "    print(\"Angka negatif\")\n",
    "else:\n",
    "    print(\"Nol\")"
   ]
  },
  {
   "cell_type": "markdown",
   "id": "9fe28d9d-9822-48e0-821a-0b4d8c7059ee",
   "metadata": {},
   "source": [
    "### 📝 Ringkasan Bab 7\n",
    "\n",
    "- Gunakan `if` untuk memeriksa kondisi.\n",
    "- Gunakan `elif` untuk kondisi tambahan jika `if` tidak terpenuhi.\n",
    "- Gunakan `else` untuk kondisi terakhir jika semua kondisi sebelumnya tidak terpenuhi.\n",
    "- Jangan lupa indentasi (spasi ke dalam) pada blok kode dalam Python, karena Python tidak pakai tanda kurung `{}`."
   ]
  },
  {
   "cell_type": "markdown",
   "id": "c7d87cea-0589-4f04-8f6a-a790dda07677",
   "metadata": {},
   "source": [
    "## Bab 8: Perulangan (Looping)\n",
    "\n",
    "Perulangan (Loop) digunakan untuk menjalankan baris kode berulang kali selama kondisi yang dibuat terpenuhi.  \n",
    "Ini sangat penting karena kita tidak perlu menulis kode yang sama berulang-ulang secara manual.\n",
    "\n",
    "Python memiliki dua jenis perulangan utama:\n",
    "- `while` -> mengulang selama kondisi bernilai True\n",
    "- `for`   -> mengulang untuk setiap item dalam urutan (list, string, range)\n",
    "  \n",
    "Juga ada perintah `break` dan `continue` untuk mengatur alur loop."
   ]
  },
  {
   "cell_type": "markdown",
   "id": "59010230-22ac-4466-ae68-50509ff77828",
   "metadata": {},
   "source": [
    "### 🔄 Perulangan dengan while (while loop)\n",
    "\n",
    "Struktur dasar:\n",
    "```python\n",
    "while kondisi:\n",
    "    # baris kode\n",
    "```"
   ]
  },
  {
   "cell_type": "markdown",
   "id": "df6951ec-d2bb-498c-97a1-6598008fd0db",
   "metadata": {},
   "source": [
    "Loop akan terus berjalan selama `kondisi` bernilai `True`"
   ]
  },
  {
   "cell_type": "code",
   "execution_count": 8,
   "id": "7ea0b269-31f7-4361-ae12-06ceaa3f6028",
   "metadata": {},
   "outputs": [
    {
     "name": "stdout",
     "output_type": "stream",
     "text": [
      "Perulangan ke 1\n",
      "Perulangan ke 2\n",
      "Perulangan ke 3\n",
      "Perulangan ke 4\n",
      "Perulangan ke 5\n"
     ]
    }
   ],
   "source": [
    "i = 1\n",
    "\n",
    "while i <= 5:\n",
    "    print(\"Perulangan ke\", i)\n",
    "    i += 1"
   ]
  },
  {
   "cell_type": "markdown",
   "id": "4a858535-7120-4eef-99ca-f9326a2e2813",
   "metadata": {},
   "source": [
    "### 🔄 Perulangan dengan for (for loop)\n",
    "\n",
    "`for` digunakan untuk mengiterasi setiap item dalam urutan seperti `list`, `string`, atau `range`.\n",
    "\n",
    "Struktur:\n",
    "```python\n",
    "for variabel in urutan\n",
    "    # baris kode\n",
    "```"
   ]
  },
  {
   "cell_type": "code",
   "execution_count": 10,
   "id": "8e90ed60-6989-40dd-a817-13769779fced",
   "metadata": {},
   "outputs": [
    {
     "name": "stdout",
     "output_type": "stream",
     "text": [
      "Perulangan ke 1\n",
      "Perulangan ke 2\n",
      "Perulangan ke 3\n",
      "Perulangan ke 4\n",
      "Perulangan ke 5\n"
     ]
    }
   ],
   "source": [
    "for i in range(1, 6):\n",
    "    print(\"Perulangan ke\", i)"
   ]
  },
  {
   "cell_type": "markdown",
   "id": "8ca0e4b0-c1a1-45bb-8084-bfaecceb384f",
   "metadata": {},
   "source": [
    "Kita juga bisa melakukan perulangan menggunakan string"
   ]
  },
  {
   "cell_type": "code",
   "execution_count": 1,
   "id": "2e83ef12-1730-4776-bd37-5092c967e2dd",
   "metadata": {},
   "outputs": [
    {
     "name": "stdout",
     "output_type": "stream",
     "text": [
      "P\n",
      "y\n",
      "t\n",
      "h\n",
      "o\n",
      "n\n"
     ]
    }
   ],
   "source": [
    "for huruf in \"Python\":\n",
    "    print(huruf)\n",
    "\n",
    "# Hasilnya, python akan menjabarkan list dari kata string yaitu \"Python\""
   ]
  },
  {
   "cell_type": "markdown",
   "id": "a4d3f85b-4526-4f98-b26d-299203287089",
   "metadata": {},
   "source": [
    "### 🛑 break"
   ]
  },
  {
   "cell_type": "markdown",
   "id": "60f21e68-7187-4fb8-a9df-56277fea519d",
   "metadata": {},
   "source": [
    "`break` digunakan untuk menghentikan loop secara paksa."
   ]
  },
  {
   "cell_type": "code",
   "execution_count": 2,
   "id": "9bb69be5-2fe7-4d81-b99f-03e6f1bf24e6",
   "metadata": {},
   "outputs": [
    {
     "name": "stdout",
     "output_type": "stream",
     "text": [
      "1\n",
      "2\n",
      "3\n",
      "4\n"
     ]
    }
   ],
   "source": [
    "for i in range(1, 10):\n",
    "    if i == 5:\n",
    "        break\n",
    "    print(i)\n",
    "\n",
    "# karena pada fungsi `for loop` di atas terdapat fungsi `break` juga, jadi kode hanya memunculkan angka sebanyak 4 karena fungsi `if` adalah\n",
    "# memastikan kode berhenti tepat pada saat angka 5 (angka 5 tidak terprint)"
   ]
  },
  {
   "cell_type": "markdown",
   "id": "f08141b8-a9e0-4c72-b326-c14bf02594a7",
   "metadata": {},
   "source": [
    "### ⏭️ continue\n",
    "\n",
    "`continue` digunakan untuk **melewati iterasi saat ini** dan lanjut ke iterasi berikutnya."
   ]
  },
  {
   "cell_type": "code",
   "execution_count": null,
   "id": "5ea5ea13-9c7f-445c-b7c5-08f6cb0b9215",
   "metadata": {},
   "outputs": [],
   "source": []
  }
 ],
 "metadata": {
  "kernelspec": {
   "display_name": "Python 3 (ipykernel)",
   "language": "python",
   "name": "python3"
  },
  "language_info": {
   "codemirror_mode": {
    "name": "ipython",
    "version": 3
   },
   "file_extension": ".py",
   "mimetype": "text/x-python",
   "name": "python",
   "nbconvert_exporter": "python",
   "pygments_lexer": "ipython3",
   "version": "3.13.2"
  }
 },
 "nbformat": 4,
 "nbformat_minor": 5
}
