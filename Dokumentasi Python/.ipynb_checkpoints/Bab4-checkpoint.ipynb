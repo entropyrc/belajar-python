{
 "cells": [
  {
   "cell_type": "markdown",
   "id": "db8ad5bf-d68f-470f-9c25-07dca36ec5a4",
   "metadata": {},
   "source": [
    "## Bab 4: Komentar dalam Python\n",
    "\n",
    "Komentar adalah baris dalam program yang tidak akan dijalankan oleh Python. Komentar digunakan untuk:\n",
    "- Memberikan penjelasan pada kode\n",
    "- Memberi catatan untuk diri sendiri atau orang lain\n",
    "- Menonaktifkan bagian kode saat pengujian\n",
    "\n",
    "Python menggunakan tanda pagar `#` untuk membuat komentar satu baris.\n"
   ]
  },
  {
   "cell_type": "code",
   "execution_count": 5,
   "id": "73670d0a-65a5-4e58-93da-38aa26f392c0",
   "metadata": {},
   "outputs": [
    {
     "name": "stdout",
     "output_type": "stream",
     "text": [
      "Hello, World!\n"
     ]
    }
   ],
   "source": [
    "# Ini adalah komentar\n",
    "# Program ini menampilkan teks ke layar\n",
    "print(\"Hello, World!\")"
   ]
  },
  {
   "cell_type": "markdown",
   "id": "6ff4f89f-a495-459a-ba03-eea95774e7e4",
   "metadata": {},
   "source": [
    "Kamu juga bisa menulis komentar di samping kode:"
   ]
  },
  {
   "cell_type": "code",
   "execution_count": 6,
   "id": "2aa4b156-0e9b-4f07-ae48-7349a4abbc8e",
   "metadata": {},
   "outputs": [],
   "source": [
    "umur = 18    # Menyimpan umur pengguna"
   ]
  },
  {
   "cell_type": "markdown",
   "id": "9016b035-976b-422c-8af1-94c982bf7892",
   "metadata": {},
   "source": [
    "Untuk komentar panjang, kamu bisa menulis komentar di beberapa baris dengan banyak tanda `#`.\n",
    "\n",
    "Python tidak memiliki komentar blok resmi seperti `/* */` di C atau Java.\n",
    "\n",
    "Namun, banyak programmer juga menggunakan triple quote (`''' ... '''` atau `\"\"\" ... \"\"\"`) sebagai komentar multiline **sementara**, meskipun ini aslinya digunakan untuk string.\n"
   ]
  },
  {
   "cell_type": "code",
   "execution_count": 8,
   "id": "68ebb10b-5999-4655-95e3-6e74608cf384",
   "metadata": {},
   "outputs": [
    {
     "name": "stdout",
     "output_type": "stream",
     "text": [
      "Tes komentar panjang\n"
     ]
    }
   ],
   "source": [
    "'''\n",
    "Ini komentar panjang.\n",
    "Biasanya digunakan untuk dokumentasi fungsi.\n",
    "Tapi bisa juga dipakai sebagai komentar multiline.\n",
    "'''\n",
    "\n",
    "print(\"Tes komentar panjang\")"
   ]
  },
  {
   "cell_type": "markdown",
   "id": "b7630978-b467-4340-92fd-3c81196443fa",
   "metadata": {},
   "source": [
    "### ✨ Tips Menulis Komentar yang Baik\n",
    "\n",
    "- Tulis komentar untuk menjelaskan “mengapa” kode itu ditulis, bukan hanya “apa”.\n",
    "- Jangan berlebihan—komentar sebaiknya singkat dan jelas.\n",
    "- Gunakan bahasa yang mudah dipahami.\n",
    "\n",
    "Contoh yang buruk:\n",
    "```python\n",
    "a = 5  # menyimpan angka 5\n"
   ]
  },
  {
   "cell_type": "markdown",
   "id": "8f842970-c182-4fc9-9112-11e5968adc9c",
   "metadata": {},
   "source": [
    "Karena sudah jelas dari kode bahwa variabel a menyimpan nilai angka 5, maka komentar seperti itu tidak diperlukan."
   ]
  },
  {
   "cell_type": "markdown",
   "id": "18369da2-6f1a-4ebd-8914-dffec0b020cc",
   "metadata": {},
   "source": [
    "---\n",
    "### ✍️ Contoh\n",
    "\n",
    "1. Buat program sederhana yang menampilkan nama dan umur.\n",
    "2. Tambahkan komentar yang menjelaskan setiap langkah kode.\n",
    "\n",
    "Contoh hasil akhir:\n",
    "```python\n",
    "# Program menampilkan nama dan umur\n",
    "\n",
    "nama = \"Wawan\"        # Menyimpan nama\n",
    "umur = 18             # Menyimpan umur\n",
    "\n",
    "print(nama)           # Menampilkan nama\n",
    "print(umur)           # Menampilkan umur\n"
   ]
  },
  {
   "cell_type": "markdown",
   "id": "9cc6ad9e-d03f-4af3-bedc-a57346e660b7",
   "metadata": {},
   "source": [
    "### 📝 Ringkasan\n",
    "\n",
    "- Gunakan `#` untuk komentar satu baris.\n",
    "- Gunakan banyak `#` atau triple quote (`'''`) untuk komentar panjang.\n",
    "- Komentar penting untuk membuat kode mudah dibaca dan dipahami."
   ]
  }
 ],
 "metadata": {
  "kernelspec": {
   "display_name": "Python 3 (ipykernel)",
   "language": "python",
   "name": "python3"
  },
  "language_info": {
   "codemirror_mode": {
    "name": "ipython",
    "version": 3
   },
   "file_extension": ".py",
   "mimetype": "text/x-python",
   "name": "python",
   "nbconvert_exporter": "python",
   "pygments_lexer": "ipython3",
   "version": "3.13.2"
  }
 },
 "nbformat": 4,
 "nbformat_minor": 5
}
