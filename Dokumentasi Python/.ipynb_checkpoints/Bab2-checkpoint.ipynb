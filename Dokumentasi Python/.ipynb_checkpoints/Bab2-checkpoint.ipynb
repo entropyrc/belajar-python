{
 "cells": [
  {
   "cell_type": "markdown",
   "id": "17cbdc49-1c24-445d-9ed3-b0be28c810ef",
   "metadata": {},
   "source": [
    "## Bab 2: Variabel dan Assignment\n",
    "\n",
    "Dalam Python, **variabel** digunakan untuk menyimpan data dari suatu nilai. Ibaratnya, variabel adalah **wadah atau tempat penyimpanan** untuk nilai tertentu yang bisa kita gunakan kembali di dalam program.\n",
    "\n",
    "Contoh sederhana:"
   ]
  },
  {
   "cell_type": "code",
   "execution_count": 16,
   "id": "79b5fe37-f86f-40e8-86f9-849410f528ab",
   "metadata": {},
   "outputs": [],
   "source": [
    "nama = \"Joko\"\n",
    "umur = 18\n",
    "tinggi = 160.5"
   ]
  },
  {
   "cell_type": "markdown",
   "id": "f83e6319-0081-4eea-8fff-42a6c740eef0",
   "metadata": {},
   "source": [
    "Di Python, kita menggunakan tanda sama dengan `=` untuk **memberikan nilai (assignment)** ke variabel.\n",
    "\n",
    "Contoh:\n",
    "- `nama = \"Joko\"` → menyimpan teks `\"Joko\"` ke dalam variabel `nama`\n",
    "- `umur = 18` → menyimpan angka 18 ke dalam variabel `umur`\n",
    "- `tinggi = 160.5` → menyimpan angka desimal ke dalam variabel `tinggi`\n",
    "\n",
    "---\n",
    "\n",
    "### 🎯 Aturan Penulisan Nama Variabel di Python\n",
    "\n",
    "Saat membuat nama variabel, kamu harus mengikuti beberapa aturan:\n",
    "\n",
    "✅ **Boleh:**\n",
    "- Huruf kecil atau besar (`nama`, `Nama`) karena variabel pada Python bersifat _case sensitive_\n",
    "- Angka (tapi tidak di awal), misalnya `umur1`\n",
    "- Underscore `_`, seperti `total_harga`\n",
    "\n",
    "🚫 **Tidak boleh:**\n",
    "- Dimulai dengan angka (misalnya `1nama`)\n",
    "- Menggunakan spasi (pakai underscore `_` sebagai gantinya)\n",
    "- Menggunakan simbol seperti `@`, `!`, `-`, dll\n",
    "- Menggunakan **kata kunci Python** seperti `if`, `for`, `class`, dll (Untuk keyword ini akan dipelajari pada materi di bab berikutnya)\n",
    "\n",
    "Contoh valid:\n",
    "```python\n",
    "panjang = 10\n",
    "lebar_ruang = 5\n",
    "total1 = 100\n",
    "```\n",
    "\n",
    "Contoh tidak valid:\n",
    "```python\n",
    "1total = 100      # ❌ dimulai dengan angka\n",
    "nama lengkap = \"Ana\"  # ❌ ada spasi pada penamaan variabel\n",
    "class = \"XII TKJ\"  # ❌ class adalah keyword Python\n",
    "```"
   ]
  },
  {
   "cell_type": "markdown",
   "id": "3ed7869d-1f2b-4ef0-8663-b76db1d56f72",
   "metadata": {},
   "source": [
    "### 🔍 Menampilkan Isi Variabel dengan print()\n",
    "\n",
    "Setelah kamu membuat variabel dan memberikan nilai (assignment), kamu bisa menggunakan **fungsi `print()`** untuk melihat isi dari variabel tersebut.\n",
    "\n",
    "Contoh:"
   ]
  },
  {
   "cell_type": "code",
   "execution_count": 1,
   "id": "2323442a-9c63-413e-8fe5-43ea29515e79",
   "metadata": {},
   "outputs": [
    {
     "name": "stdout",
     "output_type": "stream",
     "text": [
      "Rendi\n",
      "18\n"
     ]
    }
   ],
   "source": [
    "nama = \"Rendi\"\n",
    "umur = 18\n",
    "\n",
    "print(nama)\n",
    "print(umur)"
   ]
  },
  {
   "cell_type": "markdown",
   "id": "a9660329-bc10-4986-8370-38f33248ad35",
   "metadata": {},
   "source": [
    "Jika ingin membuat tampilannya lebih jelas atau lebih rapi, kamu bisa menambahkan teks di dalam `print()`.\n",
    "\n",
    "Contoh:"
   ]
  },
  {
   "cell_type": "code",
   "execution_count": 2,
   "id": "3e4ee11e-fc61-4225-917c-b2154d771034",
   "metadata": {},
   "outputs": [
    {
     "name": "stdout",
     "output_type": "stream",
     "text": [
      "Nama saya adalah Rendi\n",
      "Umur saya 18 tahun\n"
     ]
    }
   ],
   "source": [
    "nama = \"Rendi\"\n",
    "umur = 18\n",
    "\n",
    "print(\"Nama saya adalah\", nama)\n",
    "print(\"Umur saya\", umur, \"tahun\")\n"
   ]
  },
  {
   "cell_type": "markdown",
   "id": "d467911f-c80d-4145-ace7-f4882954724d",
   "metadata": {},
   "source": [
    "📌 **Catatan penting:**\n",
    "- Python akan menampilkan isi variabel setelah teks jika kita memisahkannya dengan koma.\n",
    "- Kamu juga bisa menggabungkan string menggunakan **f-string** (fitur dari Python 3.6 ke atas):\n",
    "\n",
    "Contoh:\n"
   ]
  },
  {
   "cell_type": "code",
   "execution_count": 2,
   "id": "bc19a010-c0ee-4d84-a0af-92d864d62e23",
   "metadata": {},
   "outputs": [
    {
     "name": "stdout",
     "output_type": "stream",
     "text": [
      "Nama saya adalah Ricky, dan saya berumur 18 tahun.\n"
     ]
    }
   ],
   "source": [
    "nama = \"Ricky\"\n",
    "umur = 18\n",
    "\n",
    "print(f\"Nama saya adalah {nama}, dan saya berumur {umur} tahun.\")"
   ]
  },
  {
   "cell_type": "markdown",
   "id": "933e9d23-df31-4ae1-a91e-0883f16a8930",
   "metadata": {},
   "source": [
    "Dengan `print()`, kamu bisa:\n",
    "- Mengecek apakah variabel sudah berisi nilai yang benar.\n",
    "- Menampilkan informasi secara lebih interaktif kepada pengguna.\n",
    "- Melatih kemampuan membaca data yang disimpan dalam variabel.\n",
    "\n",
    "Kita akan sering menggunakan `print()` selama belajar Python, jadi pastikan kamu paham cara menggunakannya untuk menampilkan isi dari variabel kamu sendiri.\n"
   ]
  },
  {
   "cell_type": "markdown",
   "id": "cb43c61e-8ae9-4250-b68c-ef23c4c0db92",
   "metadata": {},
   "source": [
    "### ✍️ Contoh\n",
    "\n",
    "1. Buat 3 variabel:\n",
    "   - `hobi` → isi dengan hobi kamu\n",
    "   - `tahun_lahir` → isi dengan tahun lahir\n",
    "   - `berat_badan` → isi dengan berat badan kamu dalam kilogram\n",
    "\n",
    "2. Tampilkan ketiga variabel tersebut dengan `print()`\n",
    "\n",
    "Contoh hasil yang diharapkan:\n"
   ]
  },
  {
   "cell_type": "code",
   "execution_count": 38,
   "id": "3255f473-5b8b-4c01-8ef0-5909afb9741e",
   "metadata": {},
   "outputs": [
    {
     "name": "stdout",
     "output_type": "stream",
     "text": [
      "Hobi saya adalah menulis\n",
      "Saya lahir pada tahun 2006\n",
      "Berat badan saya 40 kg\n"
     ]
    }
   ],
   "source": [
    "hobi = \"menulis\"\n",
    "tahun_lahir = 2006\n",
    "berat_badan = 40\n",
    "\n",
    "print(\"Hobi saya adalah\", hobi)\n",
    "print(\"Saya lahir pada tahun\", tahun_lahir)\n",
    "print(\"Berat badan saya\", berat_badan, \"kg\")\n"
   ]
  },
  {
   "cell_type": "markdown",
   "id": "b8539d00-dd1b-42ff-bfa9-eb4c7402749c",
   "metadata": {},
   "source": [
    "### 📝 Ringkasan Bab 2\n",
    "\n",
    "- Variabel menyimpan data yang bisa digunakan kembali dalam program.\n",
    "- Assignment dilakukan dengan tanda `=`\n",
    "- Nama variabel harus mengikuti aturan penamaan yang benar.\n",
    "- Gunakan `print()` untuk menampilkan isi variabel.\n",
    "\n",
    "Contoh umum:\n",
    "```python\n",
    "nama = \"Ali\"\n",
    "umur = 17\n",
    "print(nama, \"berumur\", umur, \"tahun\")\n",
    "```"
   ]
  },
  {
   "cell_type": "code",
   "execution_count": null,
   "id": "f326bfdc-c414-464e-b538-58c99ca422c3",
   "metadata": {},
   "outputs": [],
   "source": []
  }
 ],
 "metadata": {
  "kernelspec": {
   "display_name": "Python 3 (ipykernel)",
   "language": "python",
   "name": "python3"
  },
  "language_info": {
   "codemirror_mode": {
    "name": "ipython",
    "version": 3
   },
   "file_extension": ".py",
   "mimetype": "text/x-python",
   "name": "python",
   "nbconvert_exporter": "python",
   "pygments_lexer": "ipython3",
   "version": "3.13.2"
  }
 },
 "nbformat": 4,
 "nbformat_minor": 5
}
