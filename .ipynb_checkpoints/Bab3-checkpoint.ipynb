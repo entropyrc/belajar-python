{
 "cells": [
  {
   "cell_type": "markdown",
   "id": "f6e23714-472d-40b3-9480-65d17f0da9f7",
   "metadata": {},
   "source": [
    "## Bab 3: Tipe Data Dasar\n",
    "\n",
    "Di Python, setiap nilai yang kita simpan di dalam variabel memiliki tipe data tertentu. **Tipe data** menjelaskan jenis nilai yang sedang digunakan, misalnya angka, teks, atau nilai logika (benar/salah).\n",
    "\n",
    "Python memiliki banyak tipe data, namun di bab ini kita akan fokus pada **empat tipe data dasar**:\n",
    "\n",
    "1. `int` → bilangan bulat (contoh: 10, -5)\n",
    "2. `float` → bilangan desimal (contoh: 3.14, -0.5)\n",
    "3. `str` → teks atau string (contoh: \"Halo\", \"123\")\n",
    "4. `bool` → nilai logika (True atau False)\n"
   ]
  },
  {
   "cell_type": "markdown",
   "id": "976ae30a-afe2-4c99-8794-80fb9ffc17ba",
   "metadata": {},
   "source": [
    "### 1. int (Integer)\n",
    "\n",
    "Tipe data `int` digunakan untuk menyimpan **bilangan bulat**, baik positif maupun negatif, tanpa desimal.\n"
   ]
  },
  {
   "cell_type": "code",
   "execution_count": 3,
   "id": "6e6023c1-eab5-4550-a15c-7de6e76ab991",
   "metadata": {},
   "outputs": [
    {
     "name": "stdout",
     "output_type": "stream",
     "text": [
      "20\n",
      "2025\n",
      "<class 'int'>\n"
     ]
    }
   ],
   "source": [
    "umur = 20\n",
    "tahun = 2025\n",
    "\n",
    "print(umur)\n",
    "print(tahun)\n",
    "print(type(umur)) # Menampilkan tipe data"
   ]
  },
  {
   "cell_type": "markdown",
   "id": "483ced95-4f06-4598-83d2-1e9ecf6fdc7f",
   "metadata": {},
   "source": [
    "### 2. float\n",
    "\n",
    "Tipe data `float` digunakan untuk menyimpan **bilangan desimal** (pecahan).\n",
    "\n",
    "Contoh:\n"
   ]
  },
  {
   "cell_type": "code",
   "execution_count": 3,
   "id": "3740f422-7a87-4bef-ad22-8542374ba09f",
   "metadata": {},
   "outputs": [
    {
     "name": "stdout",
     "output_type": "stream",
     "text": [
      "160.5\n",
      "<class 'float'>\n"
     ]
    }
   ],
   "source": [
    "tinggi = 160.5\n",
    "berat = 40.2\n",
    "\n",
    "print(tinggi)\n",
    "print(type(berat))"
   ]
  },
  {
   "cell_type": "markdown",
   "id": "2b6ed135-8e73-472b-bcb8-dc3a420eb415",
   "metadata": {},
   "source": [
    "### 3. str (String)\n",
    "\n",
    "Tipe data `str` digunakan untuk menyimpan **teks** atau rangkaian karakter, ditulis di dalam **tanda kutip**.\n",
    "\n",
    "Kamu bisa menggunakan tanda kutip satu `'...'` atau kutip dua `\"...\"`."
   ]
  },
  {
   "cell_type": "code",
   "execution_count": 3,
   "id": "0df7b483-a0b2-419a-a8eb-f239c1447bbd",
   "metadata": {},
   "outputs": [
    {
     "name": "stdout",
     "output_type": "stream",
     "text": [
      "Anwar\n",
      "<class 'str'>\n"
     ]
    }
   ],
   "source": [
    "nama = \"Anwar\"\n",
    "alamat = 'Jakarta'\n",
    "\n",
    "print(nama)\n",
    "print(type(alamat))"
   ]
  },
  {
   "cell_type": "markdown",
   "id": "9cc9e0da-c7a9-43ad-ba74-6de4f5478ece",
   "metadata": {},
   "source": [
    "### 4. bool (Boolean)\n",
    "\n",
    "Tipe data `bool` hanya memiliki dua nilai: `True` dan `False`.\n",
    "\n",
    "Tipe data ini sering digunakan dalam kondisi (seperti `if`) untuk membuat keputusan dalam program.\n"
   ]
  },
  {
   "cell_type": "code",
   "execution_count": 6,
   "id": "1c913c37-a615-4622-bcd7-a5c51a244cab",
   "metadata": {},
   "outputs": [
    {
     "name": "stdout",
     "output_type": "stream",
     "text": [
      "True\n",
      "<class 'bool'>\n"
     ]
    }
   ],
   "source": [
    "lulus = True\n",
    "punya_sim = False\n",
    "\n",
    "print(lulus)\n",
    "print(type(punya_sim))"
   ]
  },
  {
   "cell_type": "markdown",
   "id": "cff0b0c9-83de-4d36-8202-6d0d195a39b0",
   "metadata": {},
   "source": [
    "### 🔍 Cara Mengecek Tipe Data\n",
    "\n",
    "Gunakan fungsi `type()` untuk mengetahui tipe data dari suatu nilai atau variabel.\n",
    "\n",
    "Contoh:\n"
   ]
  },
  {
   "cell_type": "code",
   "execution_count": 7,
   "id": "92a328a0-4fee-453f-aa96-f84136c47442",
   "metadata": {},
   "outputs": [
    {
     "name": "stdout",
     "output_type": "stream",
     "text": [
      "<class 'str'>\n"
     ]
    }
   ],
   "source": [
    "x = \"Halo\"\n",
    "print(type(x))  # Hasilnya: <class 'str'>"
   ]
  },
  {
   "cell_type": "markdown",
   "id": "a833fe78-aa1f-4c7b-b28b-0cb6dfa3f1b3",
   "metadata": {},
   "source": [
    "### 💡 Konversi tipe data\n",
    "\n",
    "- Python secara otomatis mengenali tipe data saat kamu membuat variabel.\n",
    "- Tapi kamu juga bisa **mengubah tipe data** dengan fungsi seperti:\n",
    "  - `int()` untuk mengubah ke bilangan bulat\n",
    "  - `float()` untuk ke desimal\n",
    "  - `str()` untuk jadi teks\n",
    "  - `bool()` untuk jadi True/False\n",
    "\n",
    "Contoh:\n"
   ]
  },
  {
   "cell_type": "code",
   "execution_count": 4,
   "id": "cbf7fb6b-0378-4c58-8190-711a97d342e2",
   "metadata": {},
   "outputs": [
    {
     "name": "stdout",
     "output_type": "stream",
     "text": [
      "123 bertipe data <class 'str'>\n",
      "123 bertipe data <class 'int'>\n",
      "123 bertipe data <class 'int'>\n"
     ]
    }
   ],
   "source": [
    "angka = \"123\" # pada baris 1, variabel 'angka' bertipe string\n",
    "angka_int = int(angka) # akan tetapi pada baris 2, variabel 'angka' dikonversi menjadi bertipe data int (integer) menggunakan perintah int()\n",
    "\n",
    "print(angka, \"bertipe data\",type(angka)) # walaupun pada baris ke 2 variabel angka sudah diubah menjadi bertipe integer, kita masih bisa memunculkan nilai\n",
    "# dari variabel angka bertipe string karena memiliki nama variabel yang berbeda dengan yang sudah diubah menjadi integer.\n",
    "\n",
    "print(angka_int, \"bertipe data\",type(angka_int))\n",
    "\n",
    "# Akan tetapi lain halnya jika kita mengonversi tipe data yang memiliki nama variabel yang sama dengan sebelumnya maka variabel yang akan terpanggil\n",
    "# adalah variabel yang paling terbaru, seperti contoh di bawah ini\n",
    "number = 123\n",
    "number_int = int(number)\n",
    "\n",
    "print(number, \"bertipe data\", type(number))"
   ]
  },
  {
   "cell_type": "markdown",
   "id": "492615fb-824a-4804-86de-90fb222b0bd5",
   "metadata": {},
   "source": [
    "### ✍️ Contoh\n",
    "\n",
    "1. Buat 4 variabel:\n",
    "   - `nama_lengkap` (tipe: str)\n",
    "   - `usia` (tipe: int)\n",
    "   - `tinggi_badan` (tipe: float)\n",
    "   - `sudah_lulus` (tipe: bool)\n",
    "\n",
    "2. Tampilkan masing-masing variabel dengan `print()` dan cek tipenya dengan `type()`\n",
    "\n",
    "Contoh hasil yang diharapkan:\n"
   ]
  },
  {
   "cell_type": "code",
   "execution_count": 5,
   "id": "40c6dfee-7668-4413-bdd9-2363bc672c2c",
   "metadata": {},
   "outputs": [
    {
     "name": "stdout",
     "output_type": "stream",
     "text": [
      "Nama saya adalah Al Ghazali\n",
      "Usia saya 18 tahun\n",
      "Tinggi saya 160.5 cm\n",
      "Sudah lulus: True\n",
      "<class 'str'>\n",
      "<class 'int'>\n",
      "<class 'float'>\n",
      "<class 'bool'>\n"
     ]
    }
   ],
   "source": [
    "nama_lengkap = \"Al Ghazali\"\n",
    "usia = 18\n",
    "tinggi_badan = 160.5\n",
    "sudah_lulus = True\n",
    "\n",
    "print(\"Nama saya adalah\", nama_lengkap)\n",
    "print(\"Usia saya\", usia, \"tahun\")\n",
    "print(\"Tinggi saya\", tinggi_badan, \"cm\")\n",
    "print(\"Sudah lulus:\", sudah_lulus)\n",
    "\n",
    "print(type(nama_lengkap))\n",
    "print(type(usia))\n",
    "print(type(tinggi_badan))\n",
    "print(type(sudah_lulus))"
   ]
  },
  {
   "cell_type": "markdown",
   "id": "66d71ffc-4b60-4148-aef3-31e8dd57681b",
   "metadata": {},
   "source": [
    "### 📝 Ringkasan Bab 3\n",
    "\n",
    "- Python memiliki 4 tipe data dasar:\n",
    "  - `int`: bilangan bulat\n",
    "  - `float`: bilangan desimal\n",
    "  - `str`: teks\n",
    "  - `bool`: nilai logika True/False\n",
    "- Gunakan fungsi `type()` untuk memeriksa tipe data.\n",
    "- Kamu bisa mengubah tipe data menggunakan `int()`, `str()`, dll.\n"
   ]
  }
 ],
 "metadata": {
  "kernelspec": {
   "display_name": "Python 3 (ipykernel)",
   "language": "python",
   "name": "python3"
  },
  "language_info": {
   "codemirror_mode": {
    "name": "ipython",
    "version": 3
   },
   "file_extension": ".py",
   "mimetype": "text/x-python",
   "name": "python",
   "nbconvert_exporter": "python",
   "pygments_lexer": "ipython3",
   "version": "3.13.2"
  }
 },
 "nbformat": 4,
 "nbformat_minor": 5
}
